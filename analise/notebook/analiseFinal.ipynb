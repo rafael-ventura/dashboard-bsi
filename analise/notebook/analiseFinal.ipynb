{
 "cells": [
  {
   "cell_type": "markdown",
   "id": "98f78b03",
   "metadata": {},
   "source": [
    "Agrupar os dados em 3 grupos diferentes:\n",
    "\n",
    "Antes das Cotas\n",
    "Depois das Cotas\n",
    "Período Pandemico\n",
    "Geral (3 grupos juntos)\n",
    "\n",
    "E repetir as seguintes análises para os grupos:\n",
    "\n",
    "- Fazer comparacao do CR Médio de todos os cotistas e não-cotistas\n",
    "- Fazer comparacao do CR Médio entre cotistas NC por período (ou/e ano)\n",
    "\n",
    "\n",
    "- Fazer comparacao da evasao entre C e NC\n",
    "- Fazer comparacao da evasao entee C e NC por período(ou/e ano)\n",
    "\n",
    "- Fazer comparacao entre CR médio dos C e NC que evadiram e concluiram\n",
    "\n",
    "\n",
    "- Fazer análise visual do mapa de calor dos C e NC\n",
    "- Fazer distancia média do centro de cada bairro até a UNIRIO\n",
    "\n",
    "\n",
    "- Fazer comparacao entre C e NC olhando evasão e zona que mora do RJ"
   ]
  },
  {
   "cell_type": "markdown",
   "id": "824482e1",
   "metadata": {},
   "source": [
    "### Importando as Bibliotecas usadas"
   ]
  },
  {
   "cell_type": "code",
   "execution_count": null,
   "id": "ca58a746",
   "metadata": {
    "scrolled": true
   },
   "outputs": [],
   "source": [
    "import pandas as pd\n",
    "import numpy as np\n",
    "import matplotlib.pyplot as plt\n",
    "from cryptography.fernet import Fernet\n",
    "import re\n",
    "import datetime as dt"
   ]
  },
  {
   "cell_type": "markdown",
   "id": "4456fd4b",
   "metadata": {},
   "source": [
    "### Lendo e processando a planilha de alunos"
   ]
  },
  {
   "cell_type": "code",
   "execution_count": null,
   "id": "b3a6432e",
   "metadata": {},
   "outputs": [],
   "source": [
    "dfPrinc = pd.read_csv('../../dados/dfPrincipal.csv')"
   ]
  }
 ],
 "metadata": {
  "kernelspec": {
   "display_name": "Python 3 (ipykernel)",
   "language": "python",
   "name": "python3"
  },
  "language_info": {
   "codemirror_mode": {
    "name": "ipython",
    "version": 3
   },
   "file_extension": ".py",
   "mimetype": "text/x-python",
   "name": "python",
   "nbconvert_exporter": "python",
   "pygments_lexer": "ipython3",
   "version": "3.10.4"
  }
 },
 "nbformat": 4,
 "nbformat_minor": 5
}

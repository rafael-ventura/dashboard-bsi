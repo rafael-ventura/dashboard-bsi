{
 "cells": [
  {
   "cell_type": "markdown",
   "id": "824482e1",
   "metadata": {},
   "source": [
    "### Importando as Bibliotecas usadas"
   ]
  },
  {
   "cell_type": "code",
   "execution_count": null,
   "id": "ca58a746",
   "metadata": {
    "scrolled": true
   },
   "outputs": [],
   "source": [
    "import pandas as pd\n",
    "import numpy as np\n",
    "\n",
    "# Carregar os dados\n",
    "df = pd.read_excel('../../dados/dfPrincipal.xlsx')"
   ]
  },
  {
   "cell_type": "markdown",
   "id": "4456fd4b",
   "metadata": {},
   "source": [
    "### Lendo e processando a planilha de alunos"
   ]
  },
  {
   "cell_type": "code",
   "execution_count": null,
   "id": "b3a6432e",
   "metadata": {},
   "outputs": [],
   "source": []
  }
 ],
 "metadata": {
  "kernelspec": {
   "display_name": "Python 3 (ipykernel)",
   "language": "python",
   "name": "python3"
  },
  "language_info": {
   "codemirror_mode": {
    "name": "ipython",
    "version": 3
   },
   "file_extension": ".py",
   "mimetype": "text/x-python",
   "name": "python",
   "nbconvert_exporter": "python",
   "pygments_lexer": "ipython3",
   "version": "3.10.4"
  }
 },
 "nbformat": 4,
 "nbformat_minor": 5
}

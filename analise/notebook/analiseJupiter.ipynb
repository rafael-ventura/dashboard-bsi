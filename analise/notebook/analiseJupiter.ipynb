{
 "cells": [
  {
   "cell_type": "code",
   "execution_count": 1,
   "metadata": {},
   "outputs": [],
   "source": [
    "import pandas as pd\n",
    "import numpy as np\n",
    "import matplotlib.pyplot as plt\n",
    "from cryptography.fernet import Fernet\n",
    "import re\n",
    "import datetime as dt"
   ]
  },
  {
   "cell_type": "code",
   "execution_count": 2,
   "metadata": {},
   "outputs": [],
   "source": [
    "dfPrinc = pd.read_csv('../../dados/dfPrincipal.csv')"
   ]
  },
  {
   "cell_type": "code",
   "execution_count": 3,
   "metadata": {
    "scrolled": false
   },
   "outputs": [
    {
     "data": {
      "text/html": [
       "<div>\n",
       "<style scoped>\n",
       "    .dataframe tbody tr th:only-of-type {\n",
       "        vertical-align: middle;\n",
       "    }\n",
       "\n",
       "    .dataframe tbody tr th {\n",
       "        vertical-align: top;\n",
       "    }\n",
       "\n",
       "    .dataframe thead th {\n",
       "        text-align: right;\n",
       "    }\n",
       "</style>\n",
       "<table border=\"1\" class=\"dataframe\">\n",
       "  <thead>\n",
       "    <tr style=\"text-align: right;\">\n",
       "      <th></th>\n",
       "      <th>Unnamed: 0</th>\n",
       "      <th>SEXO</th>\n",
       "      <th>DT_NASCIMENTO</th>\n",
       "      <th>FORMA_INGRESSO</th>\n",
       "      <th>FORMA_EVASAO</th>\n",
       "      <th>PERIODO_INGRESSO</th>\n",
       "      <th>DT_EVASAO</th>\n",
       "      <th>PERIODO_EVASAO</th>\n",
       "      <th>PER_EVASAO_FORMAT</th>\n",
       "      <th>ANO_EVASAO</th>\n",
       "      <th>PER_INGRESSO_FORMAT</th>\n",
       "      <th>ANO_INGRESSO</th>\n",
       "    </tr>\n",
       "  </thead>\n",
       "  <tbody>\n",
       "    <tr>\n",
       "      <th>0</th>\n",
       "      <td>0</td>\n",
       "      <td>M</td>\n",
       "      <td>1982-02-09</td>\n",
       "      <td>VE - Vestibular</td>\n",
       "      <td>CON - Curso concluído</td>\n",
       "      <td>2</td>\n",
       "      <td>2009-09-14</td>\n",
       "      <td>2.0</td>\n",
       "      <td>2009.2</td>\n",
       "      <td>2009.0</td>\n",
       "      <td>2002.2</td>\n",
       "      <td>2002</td>\n",
       "    </tr>\n",
       "    <tr>\n",
       "      <th>1</th>\n",
       "      <td>1</td>\n",
       "      <td>M</td>\n",
       "      <td>1977-05-09</td>\n",
       "      <td>VE - Vestibular</td>\n",
       "      <td>ABA - Abandono do curso</td>\n",
       "      <td>1</td>\n",
       "      <td>2005-03-12</td>\n",
       "      <td>2.0</td>\n",
       "      <td>2005.2</td>\n",
       "      <td>2005.0</td>\n",
       "      <td>2004.1</td>\n",
       "      <td>2004</td>\n",
       "    </tr>\n",
       "    <tr>\n",
       "      <th>2</th>\n",
       "      <td>2</td>\n",
       "      <td>M</td>\n",
       "      <td>1985-03-05</td>\n",
       "      <td>VE - Vestibular</td>\n",
       "      <td>Não identificada (vide pasta do aluno)</td>\n",
       "      <td>1</td>\n",
       "      <td>2003-01-06</td>\n",
       "      <td>1.0</td>\n",
       "      <td>2003.1</td>\n",
       "      <td>2003.0</td>\n",
       "      <td>2003.1</td>\n",
       "      <td>2003</td>\n",
       "    </tr>\n",
       "    <tr>\n",
       "      <th>3</th>\n",
       "      <td>3</td>\n",
       "      <td>M</td>\n",
       "      <td>1988-07-18</td>\n",
       "      <td>SISU Ampla Concorrencia</td>\n",
       "      <td>CON - Curso concluído</td>\n",
       "      <td>2</td>\n",
       "      <td>2018-03-23</td>\n",
       "      <td>2.0</td>\n",
       "      <td>2017.2</td>\n",
       "      <td>2017.0</td>\n",
       "      <td>2013.2</td>\n",
       "      <td>2013</td>\n",
       "    </tr>\n",
       "    <tr>\n",
       "      <th>4</th>\n",
       "      <td>4</td>\n",
       "      <td>M</td>\n",
       "      <td>2002-07-02</td>\n",
       "      <td>SISU Escola Pública, Indep. de Renda : Preto e...</td>\n",
       "      <td>Sem evasão</td>\n",
       "      <td>1</td>\n",
       "      <td>NaN</td>\n",
       "      <td>NaN</td>\n",
       "      <td>nan.</td>\n",
       "      <td>NaN</td>\n",
       "      <td>2020.1</td>\n",
       "      <td>2020</td>\n",
       "    </tr>\n",
       "  </tbody>\n",
       "</table>\n",
       "</div>"
      ],
      "text/plain": [
       "   Unnamed: 0 SEXO DT_NASCIMENTO  \\\n",
       "0           0    M    1982-02-09   \n",
       "1           1    M    1977-05-09   \n",
       "2           2    M    1985-03-05   \n",
       "3           3    M    1988-07-18   \n",
       "4           4    M    2002-07-02   \n",
       "\n",
       "                                      FORMA_INGRESSO  \\\n",
       "0                                    VE - Vestibular   \n",
       "1                                    VE - Vestibular   \n",
       "2                                    VE - Vestibular   \n",
       "3                            SISU Ampla Concorrencia   \n",
       "4  SISU Escola Pública, Indep. de Renda : Preto e...   \n",
       "\n",
       "                             FORMA_EVASAO  PERIODO_INGRESSO   DT_EVASAO  \\\n",
       "0                   CON - Curso concluído                 2  2009-09-14   \n",
       "1                 ABA - Abandono do curso                 1  2005-03-12   \n",
       "2  Não identificada (vide pasta do aluno)                 1  2003-01-06   \n",
       "3                   CON - Curso concluído                 2  2018-03-23   \n",
       "4                              Sem evasão                 1         NaN   \n",
       "\n",
       "   PERIODO_EVASAO PER_EVASAO_FORMAT  ANO_EVASAO  PER_INGRESSO_FORMAT  \\\n",
       "0             2.0            2009.2      2009.0               2002.2   \n",
       "1             2.0            2005.2      2005.0               2004.1   \n",
       "2             1.0            2003.1      2003.0               2003.1   \n",
       "3             2.0            2017.2      2017.0               2013.2   \n",
       "4             NaN              nan.         NaN               2020.1   \n",
       "\n",
       "   ANO_INGRESSO  \n",
       "0          2002  \n",
       "1          2004  \n",
       "2          2003  \n",
       "3          2013  \n",
       "4          2020  "
      ]
     },
     "execution_count": 3,
     "metadata": {},
     "output_type": "execute_result"
    }
   ],
   "source": [
    "dfPrinc.head()"
   ]
  },
  {
   "cell_type": "markdown",
   "metadata": {},
   "source": [
    "### Analise Dados Alunos"
   ]
  },
  {
   "cell_type": "markdown",
   "metadata": {},
   "source": [
    "\n",
    "\n",
    "--- \n",
    "\n",
    "### Grupos de Alunos\n",
    "\n",
    "| /                           |Todos os Alunos | Antes de 2013 | De 2013 até 2020 | De 2020 até 2021 \n",
    "| --------------------------  | -------------- |  -----------  | -----------      | -----------     | \n",
    "Análise da % de conclusão     | x              |  -----------  | -----------      | -----------     | \n",
    "Análise da % de genero        | x              |  -----------  | -----------      | -----------     | \n",
    "Análise do perfil de idade    | x              |  -----------  | -----------      | -----------     | \n",
    "Análise da distancia          | -------------- |  -----------  | -----------      | -----------     | \n",
    "Análise do rendimento escolar | -------------- |  -----------  | -----------      | -----------     | \n",
    "Análise da % de conclusão     | -------------- |  -----------  | -----------      | -----------     | \n",
    "\n",
    "\n",
    "\n",
    "\n",
    "\n"
   ]
  },
  {
   "cell_type": "markdown",
   "metadata": {},
   "source": [
    "## Análise da % de conclusão(Todos os Alunos)"
   ]
  },
  {
   "cell_type": "code",
   "execution_count": 4,
   "metadata": {},
   "outputs": [],
   "source": [
    "evasoesDF = dfPrinc.groupby(['ANO_EVASAO','FORMA_EVASAO'], dropna=False).size().reset_index(name='ALUNOS')"
   ]
  },
  {
   "cell_type": "code",
   "execution_count": 5,
   "metadata": {},
   "outputs": [],
   "source": [
    "evasoesDF['FORMA_EVASAO'] = evasoesDF.FORMA_EVASAO.str.replace('ABA - Abandono do curso', 'Evasão') \n",
    "evasoesDF['FORMA_EVASAO'] = evasoesDF.FORMA_EVASAO.str.replace('APO - Aluno Especial - Disciplina Isolada', 'Evasão') \n",
    "evasoesDF['FORMA_EVASAO'] = evasoesDF.FORMA_EVASAO.str.replace('APO -Conclusão a Mobilidade Acadêmica Externa - ANDIFES', 'Evasão') \n",
    "evasoesDF['FORMA_EVASAO'] = evasoesDF.FORMA_EVASAO.str.replace('APO -Conclusão da Mobilidade Acadêmica Externa - IAE/IESCE', 'Evasão') \n",
    "evasoesDF['FORMA_EVASAO'] = evasoesDF.FORMA_EVASAO.str.replace('Desistência SiSU', 'Evasão') \n",
    "evasoesDF['FORMA_EVASAO'] = evasoesDF.FORMA_EVASAO.str.replace('JUB - Jubilamento', 'Evasão') \n",
    "evasoesDF['FORMA_EVASAO'] = evasoesDF.FORMA_EVASAO.str.replace('CAN - Cancelamento Geral do curso', 'Evasão') \n",
    "evasoesDF['FORMA_EVASAO'] = evasoesDF.FORMA_EVASAO.str.replace('CON - Curso concluído', 'Concluído') \n",
    "evasoesDF['FORMA_EVASAO'] = evasoesDF.FORMA_EVASAO.str.replace('Sem evasão', 'Cursando') "
   ]
  },
  {
   "cell_type": "code",
   "execution_count": 6,
   "metadata": {},
   "outputs": [],
   "source": [
    "evasoesDF.loc[evasoesDF['FORMA_EVASAO'] == 'Não identificada (vide pasta do aluno)' , 'FORMA_EVASAO'] = 'Evasão'"
   ]
  },
  {
   "cell_type": "code",
   "execution_count": 7,
   "metadata": {},
   "outputs": [],
   "source": [
    "evasoesDF = evasoesDF.groupby(['FORMA_EVASAO'] , as_index=False)['ALUNOS'].sum() "
   ]
  },
  {
   "cell_type": "code",
   "execution_count": 8,
   "metadata": {
    "scrolled": true
   },
   "outputs": [],
   "source": [
    "# Mostra porcentagem de alunos\n",
    "evasoesDF['PERCENT'] =  (100. * evasoesDF['ALUNOS'] / evasoesDF['ALUNOS'].sum()).round(0)\n"
   ]
  },
  {
   "cell_type": "code",
   "execution_count": 9,
   "metadata": {
    "scrolled": false
   },
   "outputs": [
    {
     "data": {
      "text/html": [
       "<div>\n",
       "<style scoped>\n",
       "    .dataframe tbody tr th:only-of-type {\n",
       "        vertical-align: middle;\n",
       "    }\n",
       "\n",
       "    .dataframe tbody tr th {\n",
       "        vertical-align: top;\n",
       "    }\n",
       "\n",
       "    .dataframe thead th {\n",
       "        text-align: right;\n",
       "    }\n",
       "</style>\n",
       "<table border=\"1\" class=\"dataframe\">\n",
       "  <thead>\n",
       "    <tr style=\"text-align: right;\">\n",
       "      <th></th>\n",
       "      <th>FORMA_EVASAO</th>\n",
       "      <th>ALUNOS</th>\n",
       "      <th>PERCENT</th>\n",
       "    </tr>\n",
       "  </thead>\n",
       "  <tbody>\n",
       "    <tr>\n",
       "      <th>0</th>\n",
       "      <td>Concluído</td>\n",
       "      <td>335</td>\n",
       "      <td>27.0</td>\n",
       "    </tr>\n",
       "    <tr>\n",
       "      <th>1</th>\n",
       "      <td>Cursando</td>\n",
       "      <td>418</td>\n",
       "      <td>33.0</td>\n",
       "    </tr>\n",
       "    <tr>\n",
       "      <th>2</th>\n",
       "      <td>Evasão</td>\n",
       "      <td>507</td>\n",
       "      <td>40.0</td>\n",
       "    </tr>\n",
       "  </tbody>\n",
       "</table>\n",
       "</div>"
      ],
      "text/plain": [
       "  FORMA_EVASAO  ALUNOS  PERCENT\n",
       "0    Concluído     335     27.0\n",
       "1     Cursando     418     33.0\n",
       "2       Evasão     507     40.0"
      ]
     },
     "execution_count": 9,
     "metadata": {},
     "output_type": "execute_result"
    }
   ],
   "source": [
    "evasoesDF"
   ]
  },
  {
   "cell_type": "code",
   "execution_count": 10,
   "metadata": {},
   "outputs": [
    {
     "name": "stdout",
     "output_type": "stream",
     "text": [
      "  FORMA_EVASAO  ALUNOS  PERCENT\n",
      "0    Concluído     335     27.0\n",
      "1     Cursando     418     33.0\n",
      "2       Evasão     507     40.0\n"
     ]
    }
   ],
   "source": [
    "evasoesDF.to_csv ('../../dados/evasoesDF.csv', index = False, header=True)\n",
    "print(evasoesDF)"
   ]
  },
  {
   "cell_type": "markdown",
   "metadata": {},
   "source": [
    "---"
   ]
  },
  {
   "cell_type": "markdown",
   "metadata": {},
   "source": [
    "## Análise da % de gênero"
   ]
  },
  {
   "cell_type": "code",
   "execution_count": 9,
   "metadata": {},
   "outputs": [],
   "source": [
    "generoDF = dfPrinc.groupby(['SEXO'], dropna=False).size().reset_index(name='ALUNOS')"
   ]
  },
  {
   "cell_type": "code",
   "execution_count": 10,
   "metadata": {},
   "outputs": [],
   "source": [
    "generoDF['PERCENT'] =  (100. * generoDF['ALUNOS'] / generoDF['ALUNOS'].sum()).round(0)"
   ]
  },
  {
   "cell_type": "code",
   "execution_count": 13,
   "metadata": {},
   "outputs": [],
   "source": [
    "generoDF.loc[(generoDF['SEXO'] == 'M'),'SEXO']='Masculino'\n",
    "generoDF.loc[(generoDF['SEXO'] == 'F'),'SEXO']='Feminino'"
   ]
  },
  {
   "cell_type": "code",
   "execution_count": 14,
   "metadata": {
    "scrolled": true
   },
   "outputs": [
    {
     "data": {
      "text/html": [
       "<div>\n",
       "<style scoped>\n",
       "    .dataframe tbody tr th:only-of-type {\n",
       "        vertical-align: middle;\n",
       "    }\n",
       "\n",
       "    .dataframe tbody tr th {\n",
       "        vertical-align: top;\n",
       "    }\n",
       "\n",
       "    .dataframe thead th {\n",
       "        text-align: right;\n",
       "    }\n",
       "</style>\n",
       "<table border=\"1\" class=\"dataframe\">\n",
       "  <thead>\n",
       "    <tr style=\"text-align: right;\">\n",
       "      <th></th>\n",
       "      <th>SEXO</th>\n",
       "      <th>ALUNOS</th>\n",
       "      <th>PERCENT</th>\n",
       "    </tr>\n",
       "  </thead>\n",
       "  <tbody>\n",
       "    <tr>\n",
       "      <th>0</th>\n",
       "      <td>Feminino</td>\n",
       "      <td>238</td>\n",
       "      <td>19.0</td>\n",
       "    </tr>\n",
       "    <tr>\n",
       "      <th>1</th>\n",
       "      <td>Masculino</td>\n",
       "      <td>1022</td>\n",
       "      <td>81.0</td>\n",
       "    </tr>\n",
       "  </tbody>\n",
       "</table>\n",
       "</div>"
      ],
      "text/plain": [
       "        SEXO  ALUNOS  PERCENT\n",
       "0   Feminino     238     19.0\n",
       "1  Masculino    1022     81.0"
      ]
     },
     "execution_count": 14,
     "metadata": {},
     "output_type": "execute_result"
    }
   ],
   "source": [
    "generoDF"
   ]
  },
  {
   "cell_type": "code",
   "execution_count": 15,
   "metadata": {},
   "outputs": [
    {
     "name": "stdout",
     "output_type": "stream",
     "text": [
      "        SEXO  ALUNOS  PERCENT\n",
      "0   Feminino     238     19.0\n",
      "1  Masculino    1022     81.0\n"
     ]
    }
   ],
   "source": [
    "generoDF.to_csv ('../../dados/generoDF.csv', index = False, header=True)\n",
    "print(generoDF)"
   ]
  },
  {
   "cell_type": "markdown",
   "metadata": {},
   "source": [
    "## Análise do perfil de idade\n"
   ]
  },
  {
   "cell_type": "code",
   "execution_count": 147,
   "metadata": {},
   "outputs": [],
   "source": [
    "dfPrinc['DT_NASCIMENTO'] = pd.to_datetime(dfPrinc['DT_NASCIMENTO'])\n"
   ]
  },
  {
   "cell_type": "code",
   "execution_count": 148,
   "metadata": {},
   "outputs": [],
   "source": [
    "#colunas = ['SEXO', 'FORMA_INGRESSO','FORMA_EVASAO','PERIODO_INGRESSO','DT_EVASAO','PERIODO_EVASAO','PER_EVASAO_FORMAT','ANO_EVASAO',\n",
    "#           'PER_INGRESSO_FORMAT']\n",
    "colunas = ['DT_NASCIMENTO','ANO_INGRESSO']\n",
    "idadeDF = dfPrinc.filter(colunas)\n"
   ]
  },
  {
   "cell_type": "code",
   "execution_count": 149,
   "metadata": {},
   "outputs": [],
   "source": [
    "arrayDatas = dfPrinc['DT_NASCIMENTO'].array\n",
    "arrayIngresso = dfPrinc['ANO_INGRESSO'].array\n",
    "arrayIdadeFormatado = []\n",
    "def getIdadeIngresso(DT_NASCIMENTO, ANO_INGRESSO):\n",
    "    return arrayIdadeFormatado.append(ANO_INGRESSO - DT_NASCIMENTO.year)\n",
    "    "
   ]
  },
  {
   "cell_type": "code",
   "execution_count": 150,
   "metadata": {},
   "outputs": [],
   "source": [
    "for dt,ing in zip(arrayDatas,arrayIngresso):\n",
    "    getIdadeIngresso(dt, ing)"
   ]
  },
  {
   "cell_type": "code",
   "execution_count": 151,
   "metadata": {
    "scrolled": false
   },
   "outputs": [],
   "source": [
    "idadeDF['IDADE'] = arrayIdadeFormatado\n",
    "idadeDF = idadeDF.fillna(0)\n",
    "idadeDF['IDADE'] = idadeDF['IDADE'].astype(int)"
   ]
  },
  {
   "cell_type": "code",
   "execution_count": null,
   "metadata": {
    "scrolled": true
   },
   "outputs": [],
   "source": [
    "idadeDF"
   ]
  },
  {
   "cell_type": "markdown",
   "metadata": {},
   "source": [
    "#### Fazendo Group By"
   ]
  },
  {
   "cell_type": "code",
   "execution_count": 153,
   "metadata": {},
   "outputs": [],
   "source": [
    "idadeDF = idadeDF.groupby(['IDADE'], dropna=True).size().reset_index(name='ALUNOS')"
   ]
  },
  {
   "cell_type": "code",
   "execution_count": null,
   "metadata": {
    "scrolled": true
   },
   "outputs": [],
   "source": [
    "idadeDF"
   ]
  },
  {
   "cell_type": "code",
   "execution_count": 155,
   "metadata": {},
   "outputs": [],
   "source": [
    "idadeDF = idadeDF.drop(0)"
   ]
  },
  {
   "cell_type": "code",
   "execution_count": 167,
   "metadata": {},
   "outputs": [],
   "source": [
    "idadeDF['PERCENT'] =  (100. * idadeDF['ALUNOS'] / idadeDF['ALUNOS'].sum()).round(2)"
   ]
  },
  {
   "cell_type": "code",
   "execution_count": 157,
   "metadata": {},
   "outputs": [],
   "source": [
    "idadeDF.set_index('IDADE', inplace=True)"
   ]
  },
  {
   "cell_type": "code",
   "execution_count": 158,
   "metadata": {},
   "outputs": [],
   "source": [
    "nidadeDF = idadeDF.T"
   ]
  },
  {
   "cell_type": "code",
   "execution_count": 159,
   "metadata": {},
   "outputs": [
    {
     "data": {
      "text/html": [
       "<div>\n",
       "<style scoped>\n",
       "    .dataframe tbody tr th:only-of-type {\n",
       "        vertical-align: middle;\n",
       "    }\n",
       "\n",
       "    .dataframe tbody tr th {\n",
       "        vertical-align: top;\n",
       "    }\n",
       "\n",
       "    .dataframe thead th {\n",
       "        text-align: right;\n",
       "    }\n",
       "</style>\n",
       "<table border=\"1\" class=\"dataframe\">\n",
       "  <thead>\n",
       "    <tr style=\"text-align: right;\">\n",
       "      <th>IDADE</th>\n",
       "      <th>17</th>\n",
       "      <th>18</th>\n",
       "      <th>19</th>\n",
       "      <th>20</th>\n",
       "      <th>21</th>\n",
       "      <th>22</th>\n",
       "      <th>23</th>\n",
       "      <th>24</th>\n",
       "      <th>25</th>\n",
       "      <th>26</th>\n",
       "      <th>...</th>\n",
       "      <th>50</th>\n",
       "      <th>51</th>\n",
       "      <th>52</th>\n",
       "      <th>53</th>\n",
       "      <th>54</th>\n",
       "      <th>55</th>\n",
       "      <th>56</th>\n",
       "      <th>57</th>\n",
       "      <th>58</th>\n",
       "      <th>64</th>\n",
       "    </tr>\n",
       "  </thead>\n",
       "  <tbody>\n",
       "    <tr>\n",
       "      <th>ALUNOS</th>\n",
       "      <td>20.00</td>\n",
       "      <td>253.0</td>\n",
       "      <td>300.00</td>\n",
       "      <td>167.00</td>\n",
       "      <td>106.00</td>\n",
       "      <td>58.00</td>\n",
       "      <td>57.00</td>\n",
       "      <td>64.00</td>\n",
       "      <td>43.00</td>\n",
       "      <td>29.0</td>\n",
       "      <td>...</td>\n",
       "      <td>1.00</td>\n",
       "      <td>1.00</td>\n",
       "      <td>1.00</td>\n",
       "      <td>2.00</td>\n",
       "      <td>2.00</td>\n",
       "      <td>1.00</td>\n",
       "      <td>1.00</td>\n",
       "      <td>1.00</td>\n",
       "      <td>1.00</td>\n",
       "      <td>1.00</td>\n",
       "    </tr>\n",
       "    <tr>\n",
       "      <th>PERCENT</th>\n",
       "      <td>1.59</td>\n",
       "      <td>20.1</td>\n",
       "      <td>23.83</td>\n",
       "      <td>13.26</td>\n",
       "      <td>8.42</td>\n",
       "      <td>4.61</td>\n",
       "      <td>4.53</td>\n",
       "      <td>5.08</td>\n",
       "      <td>3.42</td>\n",
       "      <td>2.3</td>\n",
       "      <td>...</td>\n",
       "      <td>0.08</td>\n",
       "      <td>0.08</td>\n",
       "      <td>0.08</td>\n",
       "      <td>0.16</td>\n",
       "      <td>0.16</td>\n",
       "      <td>0.08</td>\n",
       "      <td>0.08</td>\n",
       "      <td>0.08</td>\n",
       "      <td>0.08</td>\n",
       "      <td>0.08</td>\n",
       "    </tr>\n",
       "  </tbody>\n",
       "</table>\n",
       "<p>2 rows × 42 columns</p>\n",
       "</div>"
      ],
      "text/plain": [
       "IDADE       17     18      19      20      21     22     23     24     25  \\\n",
       "ALUNOS   20.00  253.0  300.00  167.00  106.00  58.00  57.00  64.00  43.00   \n",
       "PERCENT   1.59   20.1   23.83   13.26    8.42   4.61   4.53   5.08   3.42   \n",
       "\n",
       "IDADE      26  ...    50    51    52    53    54    55    56    57    58    64  \n",
       "ALUNOS   29.0  ...  1.00  1.00  1.00  2.00  2.00  1.00  1.00  1.00  1.00  1.00  \n",
       "PERCENT   2.3  ...  0.08  0.08  0.08  0.16  0.16  0.08  0.08  0.08  0.08  0.08  \n",
       "\n",
       "[2 rows x 42 columns]"
      ]
     },
     "execution_count": 159,
     "metadata": {},
     "output_type": "execute_result"
    }
   ],
   "source": [
    "nidadeDF"
   ]
  },
  {
   "cell_type": "code",
   "execution_count": 160,
   "metadata": {
    "scrolled": true
   },
   "outputs": [],
   "source": [
    "idadeDF\n",
    "nidadeDF['17-21'] = nidadeDF.iloc[:,0:4].sum(axis=1)\n",
    "#df.loc[len(df.index)] = ['Amy', 89, 93]\n",
    "\n",
    "#nidadeDF = idadeDF.T \n",
    "nidadeDF['22-26'] = nidadeDF.iloc[:,5:9].sum(axis=1)\n",
    "nidadeDF['27-31'] = nidadeDF.iloc[:,10:14].sum(axis=1)\n",
    "nidadeDF['32-36'] = nidadeDF.iloc[:,15:19].sum(axis=1)\n",
    "nidadeDF['37-41'] = nidadeDF.iloc[:,20:24].sum(axis=1)\n",
    "nidadeDF['< 41 > 51'] = nidadeDF.iloc[:,25:34].sum(axis=1)\n",
    "nidadeDF['< 51'] = nidadeDF.iloc[:,35:42].sum(axis=1)\n"
   ]
  },
  {
   "cell_type": "code",
   "execution_count": 161,
   "metadata": {},
   "outputs": [],
   "source": [
    "nidadeDF = nidadeDF.drop(nidadeDF.iloc[:, 0:42],axis = 1)"
   ]
  },
  {
   "cell_type": "code",
   "execution_count": 162,
   "metadata": {},
   "outputs": [],
   "source": [
    "nidadeDF = nidadeDF.T"
   ]
  },
  {
   "cell_type": "code",
   "execution_count": 165,
   "metadata": {
    "scrolled": true
   },
   "outputs": [
    {
     "data": {
      "text/html": [
       "<div>\n",
       "<style scoped>\n",
       "    .dataframe tbody tr th:only-of-type {\n",
       "        vertical-align: middle;\n",
       "    }\n",
       "\n",
       "    .dataframe tbody tr th {\n",
       "        vertical-align: top;\n",
       "    }\n",
       "\n",
       "    .dataframe thead th {\n",
       "        text-align: right;\n",
       "    }\n",
       "</style>\n",
       "<table border=\"1\" class=\"dataframe\">\n",
       "  <thead>\n",
       "    <tr style=\"text-align: right;\">\n",
       "      <th></th>\n",
       "      <th>ALUNOS</th>\n",
       "      <th>PERCENT</th>\n",
       "    </tr>\n",
       "    <tr>\n",
       "      <th>IDADE</th>\n",
       "      <th></th>\n",
       "      <th></th>\n",
       "    </tr>\n",
       "  </thead>\n",
       "  <tbody>\n",
       "    <tr>\n",
       "      <th>17-21</th>\n",
       "      <td>740.0</td>\n",
       "      <td>58.78</td>\n",
       "    </tr>\n",
       "    <tr>\n",
       "      <th>22-26</th>\n",
       "      <td>222.0</td>\n",
       "      <td>17.64</td>\n",
       "    </tr>\n",
       "    <tr>\n",
       "      <th>27-31</th>\n",
       "      <td>76.0</td>\n",
       "      <td>6.04</td>\n",
       "    </tr>\n",
       "    <tr>\n",
       "      <th>32-36</th>\n",
       "      <td>35.0</td>\n",
       "      <td>2.79</td>\n",
       "    </tr>\n",
       "    <tr>\n",
       "      <th>37-41</th>\n",
       "      <td>11.0</td>\n",
       "      <td>0.88</td>\n",
       "    </tr>\n",
       "    <tr>\n",
       "      <th>&lt; 41 &gt; 51</th>\n",
       "      <td>15.0</td>\n",
       "      <td>1.20</td>\n",
       "    </tr>\n",
       "    <tr>\n",
       "      <th>&lt; 51</th>\n",
       "      <td>9.0</td>\n",
       "      <td>0.72</td>\n",
       "    </tr>\n",
       "  </tbody>\n",
       "</table>\n",
       "</div>"
      ],
      "text/plain": [
       "           ALUNOS  PERCENT\n",
       "IDADE                     \n",
       "17-21       740.0    58.78\n",
       "22-26       222.0    17.64\n",
       "27-31        76.0     6.04\n",
       "32-36        35.0     2.79\n",
       "37-41        11.0     0.88\n",
       "< 41 > 51    15.0     1.20\n",
       "< 51          9.0     0.72"
      ]
     },
     "execution_count": 165,
     "metadata": {},
     "output_type": "execute_result"
    }
   ],
   "source": [
    "nidadeDF"
   ]
  },
  {
   "cell_type": "code",
   "execution_count": 81,
   "metadata": {},
   "outputs": [],
   "source": [
    "nidadeDF = nidadeDF.drop(nidadeDF.iloc[:, 0:42],axis = 1)\n",
    "#nidadeDF = nidadeDF.drop(nidadeDF.columns[[3]],axis = 1)"
   ]
  },
  {
   "cell_type": "code",
   "execution_count": 57,
   "metadata": {},
   "outputs": [],
   "source": []
  },
  {
   "cell_type": "code",
   "execution_count": null,
   "metadata": {
    "scrolled": false
   },
   "outputs": [],
   "source": [
    "idadeDF.to_csv ('../../dados/idadeDF.csv', index = False, header=True)\n",
    "print(idadeDF)"
   ]
  },
  {
   "cell_type": "code",
   "execution_count": 60,
   "metadata": {},
   "outputs": [],
   "source": []
  },
  {
   "cell_type": "code",
   "execution_count": null,
   "metadata": {},
   "outputs": [],
   "source": []
  }
 ],
 "metadata": {
  "interpreter": {
   "hash": "0e01570b1d8fb9bc14e513e59ae73705219df045de8d95f49422c21bca5e633a"
  },
  "kernelspec": {
   "display_name": "Python 3 (ipykernel)",
   "language": "python",
   "name": "python3"
  },
  "language_info": {
   "codemirror_mode": {
    "name": "ipython",
    "version": 3
   },
   "file_extension": ".py",
   "mimetype": "text/x-python",
   "name": "python",
   "nbconvert_exporter": "python",
   "pygments_lexer": "ipython3",
   "version": "3.8.10"
  }
 },
 "nbformat": 4,
 "nbformat_minor": 2
}

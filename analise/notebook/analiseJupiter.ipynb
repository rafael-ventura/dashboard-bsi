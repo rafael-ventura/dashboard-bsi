{
 "cells": [
  {
   "cell_type": "code",
   "execution_count": null,
   "metadata": {},
   "outputs": [],
   "source": [
    "import pandas as pd\n",
    "import numpy as np\n",
    "import matplotlib.pyplot as plt\n",
    "from cryptography.fernet import Fernet\n",
    "import datetime as dt"
   ]
  },
  {
   "cell_type": "code",
   "execution_count": null,
   "metadata": {},
   "outputs": [],
   "source": [
    "dfPrinc = pd.read_csv('../../dados/dfPrincipal.csv')"
   ]
  },
  {
   "cell_type": "code",
   "execution_count": null,
   "metadata": {
    "scrolled": false
   },
   "outputs": [],
   "source": [
    "dfPrinc.head()"
   ]
  },
  {
   "cell_type": "markdown",
   "source": [
    "# Analise Dados Alunos"
   ],
   "metadata": {
    "collapsed": false
   }
  },
  {
   "cell_type": "markdown",
   "metadata": {},
   "source": [
    "## Análise da % de conclusão(Todos os Alunos)"
   ]
  },
  {
   "cell_type": "code",
   "execution_count": null,
   "metadata": {},
   "outputs": [],
   "source": [
    "sevasoesDF = dfPrinc.groupby(['ANO_EVASAO','FORMA_EVASAO'], dropna=False).size().reset_index(name='ALUNOS')"
   ]
  },
  {
   "cell_type": "code",
   "execution_count": null,
   "metadata": {},
   "outputs": [],
   "source": [
    "evasoesDF['FORMA_EVASAO'] = evasoesDF.FORMA_EVASAO.str.replace('ABA - Abandono do curso', 'Evasão') \n",
    "evasoesDF['FORMA_EVASAO'] = evasoesDF.FORMA_EVASAO.str.replace('APO - Aluno Especial - Disciplina Isolada', 'Evasão') \n",
    "evasoesDF['FORMA_EVASAO'] = evasoesDF.FORMA_EVASAO.str.replace('APO -Conclusão a Mobilidade Acadêmica Externa - ANDIFES', 'Evasão') \n",
    "evasoesDF['FORMA_EVASAO'] = evasoesDF.FORMA_EVASAO.str.replace('APO -Conclusão da Mobilidade Acadêmica Externa - IAE/IESCE', 'Evasão') \n",
    "evasoesDF['FORMA_EVASAO'] = evasoesDF.FORMA_EVASAO.str.replace('Desistência SiSU', 'Evasão') \n",
    "evasoesDF['FORMA_EVASAO'] = evasoesDF.FORMA_EVASAO.str.replace('JUB - Jubilamento', 'Evasão') \n",
    "evasoesDF['FORMA_EVASAO'] = evasoesDF.FORMA_EVASAO.str.replace('CAN - Cancelamento Geral do curso', 'Evasão') \n",
    "evasoesDF['FORMA_EVASAO'] = evasoesDF.FORMA_EVASAO.str.replace('CON - Curso concluído', 'Concluído') \n",
    "evasoesDF['FORMA_EVASAO'] = evasoesDF.FORMA_EVASAO.str.replace('Sem evasão', 'Cursando') "
   ]
  },
  {
   "cell_type": "code",
   "execution_count": null,
   "metadata": {},
   "outputs": [],
   "source": [
    "evasoesDF.loc[evasoesDF['FORMA_EVASAO'] == 'Não identificada (vide pasta do aluno)' , 'FORMA_EVASAO'] = 'Evasão'"
   ]
  },
  {
   "cell_type": "code",
   "execution_count": null,
   "metadata": {},
   "outputs": [],
   "source": [
    "evasoesDF = evasoesDF.groupby(['FORMA_EVASAO'] , as_index=False)['ALUNOS'].sum() "
   ]
  },
  {
   "cell_type": "code",
   "execution_count": null,
   "metadata": {
    "scrolled": true
   },
   "outputs": [],
   "source": [
    "# Mostra porcentagem de alunos\n",
    "evasoesDF['PERCENT'] =  (100. * evasoesDF['ALUNOS'] / evasoesDF['ALUNOS'].sum()).round(0)\n"
   ]
  },
  {
   "cell_type": "code",
   "execution_count": null,
   "metadata": {},
   "outputs": [],
   "source": [
    "evasoesDF.to_csv ('../../dados/evasoesDF.csv', index = False, header=True)\n",
    "print(evasoesDF)"
   ]
  },
  {
   "cell_type": "markdown",
   "metadata": {},
   "source": [
    "## Análise da % de gênero"
   ]
  },
  {
   "cell_type": "code",
   "execution_count": null,
   "metadata": {},
   "outputs": [],
   "source": [
    "generoDF = dfPrinc.groupby(['SEXO'], dropna=False).size().reset_index(name='ALUNOS')"
   ]
  },
  {
   "cell_type": "code",
   "execution_count": null,
   "metadata": {},
   "outputs": [],
   "source": [
    "generoDF['PERCENT'] =  (100. * generoDF['ALUNOS'] / generoDF['ALUNOS'].sum()).round(0)"
   ]
  },
  {
   "cell_type": "code",
   "execution_count": null,
   "metadata": {},
   "outputs": [],
   "source": [
    "generoDF.loc[(generoDF['SEXO'] == 'M'),'SEXO']='Masculino'\n",
    "generoDF.loc[(generoDF['SEXO'] == 'F'),'SEXO']='Feminino'"
   ]
  },
  {
   "cell_type": "code",
   "execution_count": null,
   "metadata": {},
   "outputs": [],
   "source": [
    "generoDF.to_csv ('../../dados/generoDF.csv', index = False, header=True)\n",
    "print(generoDF)"
   ]
  },
  {
   "cell_type": "markdown",
   "metadata": {},
   "source": [
    "## Análise do perfil de idade\n"
   ]
  },
  {
   "cell_type": "code",
   "execution_count": null,
   "metadata": {},
   "outputs": [],
   "source": [
    "dfPrinc['DT_NASCIMENTO'] = pd.to_datetime(dfPrinc['DT_NASCIMENTO'])\n"
   ]
  },
  {
   "cell_type": "code",
   "execution_count": null,
   "metadata": {},
   "outputs": [],
   "source": [
    "#colunas = ['SEXO', 'FORMA_INGRESSO','FORMA_EVASAO','PERIODO_INGRESSO','DT_EVASAO','PERIODO_EVASAO','PER_EVASAO_FORMAT','ANO_EVASAO',\n",
    "#           'PER_INGRESSO_FORMAT']\n",
    "colunas = ['DT_NASCIMENTO','ANO_INGRESSO']\n",
    "idadeDF = dfPrinc.filter(colunas)\n"
   ]
  },
  {
   "cell_type": "code",
   "execution_count": null,
   "metadata": {},
   "outputs": [],
   "source": [
    "arrayDatas = dfPrinc['DT_NASCIMENTO'].array\n",
    "arrayIngresso = dfPrinc['ANO_INGRESSO'].array\n",
    "arrayIdadeFormatado = []\n",
    "def getIdadeIngresso(DT_NASCIMENTO, ANO_INGRESSO):\n",
    "    return arrayIdadeFormatado.append(ANO_INGRESSO - DT_NASCIMENTO.year)\n",
    "    "
   ]
  },
  {
   "cell_type": "code",
   "execution_count": null,
   "metadata": {},
   "outputs": [],
   "source": [
    "for dt,ing in zip(arrayDatas,arrayIngresso):\n",
    "    getIdadeIngresso(dt, ing)"
   ]
  },
  {
   "cell_type": "code",
   "execution_count": null,
   "metadata": {
    "scrolled": false
   },
   "outputs": [],
   "source": [
    "idadeDF['IDADE'] = arrayIdadeFormatado\n",
    "idadeDF = idadeDF.fillna(0)\n",
    "idadeDF['IDADE'] = idadeDF['IDADE'].astype(int)"
   ]
  },
  {
   "cell_type": "code",
   "execution_count": null,
   "metadata": {},
   "outputs": [],
   "source": [
    "idadeDF = idadeDF.groupby(['IDADE'], dropna=True).size().reset_index(name='ALUNOS')"
   ]
  },
  {
   "cell_type": "code",
   "execution_count": null,
   "metadata": {},
   "outputs": [],
   "source": [
    "idadeDF = idadeDF.drop(0)"
   ]
  },
  {
   "cell_type": "code",
   "execution_count": null,
   "metadata": {},
   "outputs": [],
   "source": [
    "idadeDF['PERCENT'] =  (100. * idadeDF['ALUNOS'] / idadeDF['ALUNOS'].sum()).round(1)"
   ]
  },
  {
   "cell_type": "code",
   "execution_count": null,
   "metadata": {},
   "outputs": [],
   "source": [
    "idadeDF.set_index('IDADE', inplace=True)"
   ]
  },
  {
   "cell_type": "code",
   "execution_count": null,
   "metadata": {},
   "outputs": [],
   "source": [
    "nidadeDF = idadeDF.T"
   ]
  },
  {
   "cell_type": "code",
   "execution_count": null,
   "metadata": {
    "scrolled": true
   },
   "outputs": [],
   "source": [
    "idadeDF\n",
    "nidadeDF['17-21'] = nidadeDF.iloc[:,0:4].sum(axis=1)\n",
    "#df.loc[len(df.index)] = ['Amy', 89, 93]\n",
    "\n",
    "#nidadeDF = idadeDF.T \n",
    "nidadeDF['22-26'] = nidadeDF.iloc[:,5:9].sum(axis=1)\n",
    "nidadeDF['27-31'] = nidadeDF.iloc[:,10:14].sum(axis=1)\n",
    "nidadeDF['32-36'] = nidadeDF.iloc[:,15:19].sum(axis=1)\n",
    "nidadeDF['37-41'] = nidadeDF.iloc[:,20:24].sum(axis=1)\n",
    "nidadeDF['< 41 > 51'] = nidadeDF.iloc[:,25:34].sum(axis=1)\n",
    "nidadeDF['< 51'] = nidadeDF.iloc[:,35:42].sum(axis=1)\n"
   ]
  },
  {
   "cell_type": "code",
   "execution_count": null,
   "metadata": {},
   "outputs": [],
   "source": [
    "nidadeDF = nidadeDF.drop(nidadeDF.iloc[:, 0:42],axis = 1)"
   ]
  },
  {
   "cell_type": "code",
   "execution_count": null,
   "metadata": {},
   "outputs": [],
   "source": [
    "nidadeDF = nidadeDF.T"
   ]
  },
  {
   "cell_type": "code",
   "execution_count": null,
   "outputs": [],
   "source": [
    "nidadeDF.to_csv ('../../dados/idadeDF.csv', index = True, header=True)\n",
    "print(idadeDF)"
   ],
   "metadata": {
    "collapsed": false
   }
  },
  {
   "cell_type": "markdown",
   "source": [
    "# Análise da forma de ingresso"
   ],
   "metadata": {
    "collapsed": false
   }
  },
  {
   "cell_type": "code",
   "execution_count": null,
   "outputs": [],
   "source": [
    "forma_ingresso_mapping = {\n",
    "    'AE - Aluno Especial - Disciplina Isolada': 'Outros',\n",
    "    'AE - Mobilidade Acadêmica IAE/IESCE': 'Outros',\n",
    "    'AE - Mobilidade Adadêmica Externa - ANDIFES': 'Outros',\n",
    "    'DJ - Decisão Judicial': 'Outros',\n",
    "    'EN - ENEM': 'Ampla Concorrência',\n",
    "    'EO - Transferência Ex-Ofício': 'Outros',\n",
    "    'PD - Portador de Diploma de Nível Superior': 'Outros',\n",
    "    'Pessoas com Deficiência': 'Outros',\n",
    "    'PG - Programa de Estudantes - Convênio (PEC-G)': 'Outros',\n",
    "    'SISU Ampla Concorrência': 'Ampla Concorrência',\n",
    "    'SISU EscolaPública - Indep. de Renda': 'Cotas',\n",
    "    'SISU Escola Pública até 1,5 S.M Índio': 'Cotas',\n",
    "    'SISU Escola Pública até 1,5 S.M Preto e Pardo': 'Cotas',\n",
    "    'SISU Escola Pública até 1,5 S.M.': 'Cotas',\n",
    "    'SISU Escola Pública até 1,5 S.M. Preto, Pardo, Indígena': 'Cotas',\n",
    "    'SISU Escola Pública, Indep. de Renda: Preto, Pardo, Indígena': 'Cotas',\n",
    "    'SISU Escola Pública, Indep. de Renda: Índio': 'Cotas',\n",
    "    'SISU Escola Pública, Indep. de Renda: Preto e Pardo': 'Cotas',\n",
    "    'TE - Transferência Externa - oriunda de outra instituição': 'Outros',\n",
    "    'TC - Transferência Interna-Curso não relacionado ao anterior': 'Outros',\n",
    "    'VE - Vestibular': 'Ampla Concorrência'\n",
    "}\n",
    "\n",
    "# Substituir as categorias\n",
    "dfPrinc['FORMA_INGRESSO'] = dfPrinc['FORMA_INGRESSO'].replace(forma_ingresso_mapping)"
   ],
   "metadata": {
    "collapsed": false
   }
  }
 ],
 "metadata": {
  "interpreter": {
   "hash": "0e01570b1d8fb9bc14e513e59ae73705219df045de8d95f49422c21bca5e633a"
  },
  "kernelspec": {
   "display_name": "Python 3 (ipykernel)",
   "language": "python",
   "name": "python3"
  },
  "language_info": {
   "codemirror_mode": {
    "name": "ipython",
    "version": 3
   },
   "file_extension": ".py",
   "mimetype": "text/x-python",
   "name": "python",
   "nbconvert_exporter": "python",
   "pygments_lexer": "ipython3",
   "version": "3.10.4"
  }
 },
 "nbformat": 4,
 "nbformat_minor": 2
}

{
 "cells": [
  {
   "cell_type": "code",
   "execution_count": null,
   "id": "87ab4462",
   "metadata": {},
   "outputs": [],
   "source": [
    "import pandas as pd\n",
    "import numpy as np\n",
    "import matplotlib.pyplot as plt\n",
    "!pip install cryptography\n",
    "from cryptography.fernet import Fernet\n",
    "import re\n",
    "import datetime as dt"
   ]
  },
  {
   "cell_type": "code",
   "execution_count": 6,
   "id": "7c1edaa8",
   "metadata": {},
   "outputs": [],
   "source": [
    "tabelaPrinc = pd.read_excel(\"../../dados/planilhaJoinCriptografada.xlsx\")"
   ]
  },
  {
   "cell_type": "markdown",
   "id": "d79d1add",
   "metadata": {},
   "source": [
    "## Removendo colunas"
   ]
  },
  {
   "cell_type": "code",
   "execution_count": null,
   "id": "1ea8a7bb",
   "metadata": {
    "scrolled": true
   },
   "outputs": [],
   "source": [
    "# Remocao da coluna repetida de Id\n",
    "tabelaPrinc = tabelaPrinc.drop('Unnamed: 0', axis=1)"
   ]
  },
  {
   "cell_type": "code",
   "execution_count": null,
   "id": "89b0f38a",
   "metadata": {
    "scrolled": true
   },
   "outputs": [],
   "source": [
    "tabelaPrinc.head()"
   ]
  },
  {
   "cell_type": "code",
   "execution_count": null,
   "id": "a723e1b6",
   "metadata": {
    "scrolled": true
   },
   "outputs": [],
   "source": [
    "tabelaPrinc.count()"
   ]
  },
  {
   "cell_type": "code",
   "execution_count": 22,
   "id": "9e0cba39",
   "metadata": {},
   "outputs": [],
   "source": [
    "tabelaPrinc = tabelaPrinc.drop(['ID_PESSOA', 'NOME_PESSOA', 'MATR_ALUNO','CPF_MASCARA'], axis=1)"
   ]
  },
  {
   "cell_type": "code",
   "execution_count": 29,
   "id": "a6817867",
   "metadata": {},
   "outputs": [],
   "source": [
    "dfTemp = tabelaPrinc.loc[(tabelaPrinc['BAIRRO'] == 'NaN') | (tabelaPrinc['BAIRRO'] == '.nan') | (tabelaPrinc['BAIRRO'].isna())]"
   ]
  },
  {
   "cell_type": "code",
   "execution_count": null,
   "id": "8b745a0b",
   "metadata": {},
   "outputs": [],
   "source": [
    "dfTemp"
   ]
  }
 ],
 "metadata": {
  "kernelspec": {
   "display_name": "Python 3 (ipykernel)",
   "language": "python",
   "name": "python3"
  },
  "language_info": {
   "codemirror_mode": {
    "name": "ipython",
    "version": 3
   },
   "file_extension": ".py",
   "mimetype": "text/x-python",
   "name": "python",
   "nbconvert_exporter": "python",
   "pygments_lexer": "ipython3",
   "version": "3.10.4"
  }
 },
 "nbformat": 4,
 "nbformat_minor": 5
}

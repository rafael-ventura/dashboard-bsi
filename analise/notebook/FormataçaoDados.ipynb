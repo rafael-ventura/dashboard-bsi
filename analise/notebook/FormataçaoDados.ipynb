{
 "cells": [
  {
   "cell_type": "code",
   "execution_count": 5,
   "id": "87ab4462",
   "metadata": {
    "ExecuteTime": {
     "end_time": "2023-06-12T02:48:17.072315Z",
     "start_time": "2023-06-12T02:48:17.051321200Z"
    }
   },
   "outputs": [],
   "source": [
    "import pandas as pd\n",
    "import numpy as np\n",
    "from cryptography.fernet import Fernet\n",
    "import re\n",
    "import datetime as dt"
   ]
  },
  {
   "cell_type": "code",
   "execution_count": 6,
   "outputs": [
    {
     "data": {
      "text/plain": "      Unnamed: 0                                          ID_PESSOA  \\\n0              0  b'gAAAAABkbNiLWCOjc5dEtJ9elbFrG3KQU8cA7-P7NheL...   \n1              1  b'gAAAAABkbNiLH_FksedVMxbAgvMU_5Nr07lwN8Q1DOtC...   \n2              2  b'gAAAAABkbNiLeZYj-sh1kaxoGYxX-HIxd8tENh44OOOH...   \n3              3  b'gAAAAABkbNiLDZnps45TBXL9sbG3rVzowZwf1K7tpeY9...   \n4              4  b'gAAAAABkbNiLvZ_r_oBFaWlm6V6hN4niAYgIwSCtOLwu...   \n...          ...                                                ...   \n1280        1280  b'gAAAAABkbNiLSE-WkFMYMZkJKS-VQc2klJpseszz4dmZ...   \n1281        1281  b'gAAAAABkbNiLDM_XFKCd-PErPUbf_UGKBT8QmwsgDfad...   \n1282        1282  b'gAAAAABkbNiLVXkLuda97zRTwn4G9ocNA7Z-jN5QLqpU...   \n1283        1283  b'gAAAAABkbNiL_58SassKAWuEyEE5ufrPvfQ7RZWbTzdj...   \n1284        1284  b'gAAAAABkbNiLUnz6ofWGlPOgbIis5YlfF-2mLBBtrOat...   \n\n                                            NOME_PESSOA SEXO DT_NASCIMENTO  \\\n0     b'gAAAAABkbNiL5ESUJqj3OBCnCAuRER4zD76Kz9jAMOb7...    M    02/09/1982   \n1     b'gAAAAABkbNiLFicVkSDFJz6AmZHlQMFY0_76ApXJ4IYe...    M    05/09/1977   \n2     b'gAAAAABkbNiLBwfvPHr00jxOvVNFYpIJEodq3V0DOIB9...    M    18/07/1988   \n3     b'gAAAAABkbNiLSfVuOMKZd4ieSD-sMybiSr5MmnCe-VQd...    M    07/02/2002   \n4     b'gAAAAABkbNiLvWgfMRM2RHIDNR0bIy68pbk4lgrkUHvm...    M    24/07/1985   \n...                                                 ...  ...           ...   \n1280  b'gAAAAABkbNiLs2yD236QnEKZJ8n9noklss8CfLThg6Mh...    M    22/07/2000   \n1281  b'gAAAAABkbNiLHbsdmT-QlhjSYzbRJrfVU-WfEK7cTxzQ...    M    02/07/1996   \n1282  b'gAAAAABkbNiL7o9ymFKQ6ZovRY1Jd_oyEZsBFSy2-Vcn...    M    29/03/1992   \n1283  b'gAAAAABkbNiLjgshTARDka_gLPzxl6yxODOtFEvWX_V1...    M    17/02/1991   \n1284  b'gAAAAABkbNiLHaQqOvl1VAtxAR6ramDun37Yn7eZ20xR...    M    04/07/1986   \n\n                                         FORMA_INGRESSO  \\\n0                                       VE - Vestibular   \n1                                       VE - Vestibular   \n2                               SISU Ampla Concorrencia   \n3     SISU Escola Pública, Indep. de Renda : Preto e...   \n4                                       VE - Vestibular   \n...                                                 ...   \n1280                            SISU Ampla Concorrencia   \n1281  SISU Escola Publica, Indep de Renda: Preto, Pa...   \n1282                                    VE - Vestibular   \n1283                                          EN - ENEM   \n1284                                    VE - Vestibular   \n\n                           FORMA_EVASAO  \\\n0                 CON - Curso concluído   \n1               ABA - Abandono do curso   \n2                 CON - Curso concluído   \n3     CAN - Cancelamento Geral do curso   \n4                 CON - Curso concluído   \n...                                 ...   \n1280                         Sem evasão   \n1281  CAN - Cancelamento Geral do curso   \n1282              CON - Curso concluído   \n1283              CON - Curso concluído   \n1284                  JUB - Jubilamento   \n\n                                             MATR_ALUNO NUM_VERSAO  \\\n0     b'gAAAAABkbNiLP8QiF-7hrPH--PmL_jJTukwQ7hO8KyFv...     2005/2   \n1     b'gAAAAABkbNiLmsoFbFDwmR88oexKCptWPXzTSdacmkGH...     2000/2   \n2     b'gAAAAABkbNiLa5sX9s8gBoUZb7ZYcN87uo6Ceci1nuCa...     2008/1   \n3     b'gAAAAABkbNiLpIKT4Z_au9xyLjMQ_MelKS1TmPd6mRBs...     2008/1   \n4     b'gAAAAABkbNiLvgMeHvKU2s8twdu1KEwfI_tjSq0gRno5...     2008/1   \n...                                                 ...        ...   \n1280  b'gAAAAABkbNiLK2L8ee7h0QCtxBGZGbqo_DTC_vewADvu...     2008/1   \n1281  b'gAAAAABkbNiLioM6-XVhQvX2tqWKZ5FzwSe5z-kFBCSD...     2008/1   \n1282  b'gAAAAABkbNiLL_tVsNUTWSQqg2mg8CminsMoyTMwfjOC...     2008/1   \n1283  b'gAAAAABkbNiLh6_76Km3-ET2WsEqZLJ8eerizcj7ITKj...     2008/1   \n1284  b'gAAAAABkbNiLhanTCZ1wLGtdPlU1Gg_g_M6el316sCtL...     2008/1   \n\n       PERIODO_INGRESSO   DT_EVASAO     PERIODO_EVASAO  \\\n0     2002/2°. semestre  14/09/2009  2009/2°. semestre   \n1     2004/1°. semestre  03/12/2005  2005/2°. semestre   \n2     2013/2°. semestre  23/03/2018  2017/2°. semestre   \n3     2020/1°. semestre  17/03/2022  2022/1°. semestre   \n4     2008/1°. semestre  05/08/2014  2014/2°. semestre   \n...                 ...         ...                ...   \n1280  2020/1°. semestre         NaN                NaN   \n1281  2014/2°. semestre  16/12/2014  2014/2°. semestre   \n1282  2009/1°. semestre  17/03/2015  2015/1°. semestre   \n1283  2009/1°. semestre  17/05/2013  2013/1°. semestre   \n1284  2007/2°. semestre  23/08/2013  2013/1°. semestre   \n\n                                            CPF_MASCARA     CRA  \\\n0     b'gAAAAABkbNiLds00t8Wj91Xa92cyldStgmAHnG3BZ-YI...  6,4654   \n1     b'gAAAAABkbNiLdeFrqDKUgmhRBet9s8Ea0OTC9GKAAHqe...  0,8461   \n2     b'gAAAAABkbNiLCwjax7scAEDd5QLFYSq9XlrlZ6BBO30B...  8,3088   \n3     b'gAAAAABkbNiLRRZaWv02eSGpPKnZtQFoW1jHuqM0BAej...  7,2647   \n4     b'gAAAAABkbNiLpU50iVfXknsmYjzwk3-HZ6b_YHqLTs5P...  6,7391   \n...                                                 ...     ...   \n1280  b'gAAAAABkbNiLh6C5CDE1f4O8fTYbJXITciztCOlS2Y5Y...  8,1681   \n1281  b'gAAAAABkbNiLOIlMvX_tTR-0VdkvJFqpiI1znujyixg1...  3,7444   \n1282  b'gAAAAABkbNiLCHLRZWXTfAGqN6Fs8ky5GwPFMM2Gcz8G...  7,6782   \n1283  b'gAAAAABkbNiLMgESQV4anMHjjszaergEHRoypH7IjOMz...  7,2461   \n1284  b'gAAAAABkbNiLnMEooSY1wMz1I-tUSIq5h5oAKk0qFRq6...  4,1534   \n\n               BAIRRO          CIDADE          ESTADO  \n0     Barra da Tijuca  RIO DE JANEIRO  Rio de Janeiro  \n1            Huimaitá  RIO DE JANEIRO  Rio de Janeiro  \n2         Laranjeiras  RIO DE JANEIRO  Rio de Janeiro  \n3             Pilares  RIO DE JANEIRO  Rio de Janeiro  \n4            Botafogo  RIO DE JANEIRO  Rio de Janeiro  \n...               ...             ...             ...  \n1280  Todos os Santos  RIO DE JANEIRO  Rio de Janeiro  \n1281           Pavuna  RIO DE JANEIRO  Rio de Janeiro  \n1282          Andaraí  RIO DE JANEIRO  Rio de Janeiro  \n1283       Copacabana  RIO DE JANEIRO  Rio de Janeiro  \n1284           Tijuca  RIO DE JANEIRO  Rio de Janeiro  \n\n[1285 rows x 17 columns]",
      "text/html": "<div>\n<style scoped>\n    .dataframe tbody tr th:only-of-type {\n        vertical-align: middle;\n    }\n\n    .dataframe tbody tr th {\n        vertical-align: top;\n    }\n\n    .dataframe thead th {\n        text-align: right;\n    }\n</style>\n<table border=\"1\" class=\"dataframe\">\n  <thead>\n    <tr style=\"text-align: right;\">\n      <th></th>\n      <th>Unnamed: 0</th>\n      <th>ID_PESSOA</th>\n      <th>NOME_PESSOA</th>\n      <th>SEXO</th>\n      <th>DT_NASCIMENTO</th>\n      <th>FORMA_INGRESSO</th>\n      <th>FORMA_EVASAO</th>\n      <th>MATR_ALUNO</th>\n      <th>NUM_VERSAO</th>\n      <th>PERIODO_INGRESSO</th>\n      <th>DT_EVASAO</th>\n      <th>PERIODO_EVASAO</th>\n      <th>CPF_MASCARA</th>\n      <th>CRA</th>\n      <th>BAIRRO</th>\n      <th>CIDADE</th>\n      <th>ESTADO</th>\n    </tr>\n  </thead>\n  <tbody>\n    <tr>\n      <th>0</th>\n      <td>0</td>\n      <td>b'gAAAAABkbNiLWCOjc5dEtJ9elbFrG3KQU8cA7-P7NheL...</td>\n      <td>b'gAAAAABkbNiL5ESUJqj3OBCnCAuRER4zD76Kz9jAMOb7...</td>\n      <td>M</td>\n      <td>02/09/1982</td>\n      <td>VE - Vestibular</td>\n      <td>CON - Curso concluído</td>\n      <td>b'gAAAAABkbNiLP8QiF-7hrPH--PmL_jJTukwQ7hO8KyFv...</td>\n      <td>2005/2</td>\n      <td>2002/2°. semestre</td>\n      <td>14/09/2009</td>\n      <td>2009/2°. semestre</td>\n      <td>b'gAAAAABkbNiLds00t8Wj91Xa92cyldStgmAHnG3BZ-YI...</td>\n      <td>6,4654</td>\n      <td>Barra da Tijuca</td>\n      <td>RIO DE JANEIRO</td>\n      <td>Rio de Janeiro</td>\n    </tr>\n    <tr>\n      <th>1</th>\n      <td>1</td>\n      <td>b'gAAAAABkbNiLH_FksedVMxbAgvMU_5Nr07lwN8Q1DOtC...</td>\n      <td>b'gAAAAABkbNiLFicVkSDFJz6AmZHlQMFY0_76ApXJ4IYe...</td>\n      <td>M</td>\n      <td>05/09/1977</td>\n      <td>VE - Vestibular</td>\n      <td>ABA - Abandono do curso</td>\n      <td>b'gAAAAABkbNiLmsoFbFDwmR88oexKCptWPXzTSdacmkGH...</td>\n      <td>2000/2</td>\n      <td>2004/1°. semestre</td>\n      <td>03/12/2005</td>\n      <td>2005/2°. semestre</td>\n      <td>b'gAAAAABkbNiLdeFrqDKUgmhRBet9s8Ea0OTC9GKAAHqe...</td>\n      <td>0,8461</td>\n      <td>Huimaitá</td>\n      <td>RIO DE JANEIRO</td>\n      <td>Rio de Janeiro</td>\n    </tr>\n    <tr>\n      <th>2</th>\n      <td>2</td>\n      <td>b'gAAAAABkbNiLeZYj-sh1kaxoGYxX-HIxd8tENh44OOOH...</td>\n      <td>b'gAAAAABkbNiLBwfvPHr00jxOvVNFYpIJEodq3V0DOIB9...</td>\n      <td>M</td>\n      <td>18/07/1988</td>\n      <td>SISU Ampla Concorrencia</td>\n      <td>CON - Curso concluído</td>\n      <td>b'gAAAAABkbNiLa5sX9s8gBoUZb7ZYcN87uo6Ceci1nuCa...</td>\n      <td>2008/1</td>\n      <td>2013/2°. semestre</td>\n      <td>23/03/2018</td>\n      <td>2017/2°. semestre</td>\n      <td>b'gAAAAABkbNiLCwjax7scAEDd5QLFYSq9XlrlZ6BBO30B...</td>\n      <td>8,3088</td>\n      <td>Laranjeiras</td>\n      <td>RIO DE JANEIRO</td>\n      <td>Rio de Janeiro</td>\n    </tr>\n    <tr>\n      <th>3</th>\n      <td>3</td>\n      <td>b'gAAAAABkbNiLDZnps45TBXL9sbG3rVzowZwf1K7tpeY9...</td>\n      <td>b'gAAAAABkbNiLSfVuOMKZd4ieSD-sMybiSr5MmnCe-VQd...</td>\n      <td>M</td>\n      <td>07/02/2002</td>\n      <td>SISU Escola Pública, Indep. de Renda : Preto e...</td>\n      <td>CAN - Cancelamento Geral do curso</td>\n      <td>b'gAAAAABkbNiLpIKT4Z_au9xyLjMQ_MelKS1TmPd6mRBs...</td>\n      <td>2008/1</td>\n      <td>2020/1°. semestre</td>\n      <td>17/03/2022</td>\n      <td>2022/1°. semestre</td>\n      <td>b'gAAAAABkbNiLRRZaWv02eSGpPKnZtQFoW1jHuqM0BAej...</td>\n      <td>7,2647</td>\n      <td>Pilares</td>\n      <td>RIO DE JANEIRO</td>\n      <td>Rio de Janeiro</td>\n    </tr>\n    <tr>\n      <th>4</th>\n      <td>4</td>\n      <td>b'gAAAAABkbNiLvZ_r_oBFaWlm6V6hN4niAYgIwSCtOLwu...</td>\n      <td>b'gAAAAABkbNiLvWgfMRM2RHIDNR0bIy68pbk4lgrkUHvm...</td>\n      <td>M</td>\n      <td>24/07/1985</td>\n      <td>VE - Vestibular</td>\n      <td>CON - Curso concluído</td>\n      <td>b'gAAAAABkbNiLvgMeHvKU2s8twdu1KEwfI_tjSq0gRno5...</td>\n      <td>2008/1</td>\n      <td>2008/1°. semestre</td>\n      <td>05/08/2014</td>\n      <td>2014/2°. semestre</td>\n      <td>b'gAAAAABkbNiLpU50iVfXknsmYjzwk3-HZ6b_YHqLTs5P...</td>\n      <td>6,7391</td>\n      <td>Botafogo</td>\n      <td>RIO DE JANEIRO</td>\n      <td>Rio de Janeiro</td>\n    </tr>\n    <tr>\n      <th>...</th>\n      <td>...</td>\n      <td>...</td>\n      <td>...</td>\n      <td>...</td>\n      <td>...</td>\n      <td>...</td>\n      <td>...</td>\n      <td>...</td>\n      <td>...</td>\n      <td>...</td>\n      <td>...</td>\n      <td>...</td>\n      <td>...</td>\n      <td>...</td>\n      <td>...</td>\n      <td>...</td>\n      <td>...</td>\n    </tr>\n    <tr>\n      <th>1280</th>\n      <td>1280</td>\n      <td>b'gAAAAABkbNiLSE-WkFMYMZkJKS-VQc2klJpseszz4dmZ...</td>\n      <td>b'gAAAAABkbNiLs2yD236QnEKZJ8n9noklss8CfLThg6Mh...</td>\n      <td>M</td>\n      <td>22/07/2000</td>\n      <td>SISU Ampla Concorrencia</td>\n      <td>Sem evasão</td>\n      <td>b'gAAAAABkbNiLK2L8ee7h0QCtxBGZGbqo_DTC_vewADvu...</td>\n      <td>2008/1</td>\n      <td>2020/1°. semestre</td>\n      <td>NaN</td>\n      <td>NaN</td>\n      <td>b'gAAAAABkbNiLh6C5CDE1f4O8fTYbJXITciztCOlS2Y5Y...</td>\n      <td>8,1681</td>\n      <td>Todos os Santos</td>\n      <td>RIO DE JANEIRO</td>\n      <td>Rio de Janeiro</td>\n    </tr>\n    <tr>\n      <th>1281</th>\n      <td>1281</td>\n      <td>b'gAAAAABkbNiLDM_XFKCd-PErPUbf_UGKBT8QmwsgDfad...</td>\n      <td>b'gAAAAABkbNiLHbsdmT-QlhjSYzbRJrfVU-WfEK7cTxzQ...</td>\n      <td>M</td>\n      <td>02/07/1996</td>\n      <td>SISU Escola Publica, Indep de Renda: Preto, Pa...</td>\n      <td>CAN - Cancelamento Geral do curso</td>\n      <td>b'gAAAAABkbNiLioM6-XVhQvX2tqWKZ5FzwSe5z-kFBCSD...</td>\n      <td>2008/1</td>\n      <td>2014/2°. semestre</td>\n      <td>16/12/2014</td>\n      <td>2014/2°. semestre</td>\n      <td>b'gAAAAABkbNiLOIlMvX_tTR-0VdkvJFqpiI1znujyixg1...</td>\n      <td>3,7444</td>\n      <td>Pavuna</td>\n      <td>RIO DE JANEIRO</td>\n      <td>Rio de Janeiro</td>\n    </tr>\n    <tr>\n      <th>1282</th>\n      <td>1282</td>\n      <td>b'gAAAAABkbNiLVXkLuda97zRTwn4G9ocNA7Z-jN5QLqpU...</td>\n      <td>b'gAAAAABkbNiL7o9ymFKQ6ZovRY1Jd_oyEZsBFSy2-Vcn...</td>\n      <td>M</td>\n      <td>29/03/1992</td>\n      <td>VE - Vestibular</td>\n      <td>CON - Curso concluído</td>\n      <td>b'gAAAAABkbNiLL_tVsNUTWSQqg2mg8CminsMoyTMwfjOC...</td>\n      <td>2008/1</td>\n      <td>2009/1°. semestre</td>\n      <td>17/03/2015</td>\n      <td>2015/1°. semestre</td>\n      <td>b'gAAAAABkbNiLCHLRZWXTfAGqN6Fs8ky5GwPFMM2Gcz8G...</td>\n      <td>7,6782</td>\n      <td>Andaraí</td>\n      <td>RIO DE JANEIRO</td>\n      <td>Rio de Janeiro</td>\n    </tr>\n    <tr>\n      <th>1283</th>\n      <td>1283</td>\n      <td>b'gAAAAABkbNiL_58SassKAWuEyEE5ufrPvfQ7RZWbTzdj...</td>\n      <td>b'gAAAAABkbNiLjgshTARDka_gLPzxl6yxODOtFEvWX_V1...</td>\n      <td>M</td>\n      <td>17/02/1991</td>\n      <td>EN - ENEM</td>\n      <td>CON - Curso concluído</td>\n      <td>b'gAAAAABkbNiLh6_76Km3-ET2WsEqZLJ8eerizcj7ITKj...</td>\n      <td>2008/1</td>\n      <td>2009/1°. semestre</td>\n      <td>17/05/2013</td>\n      <td>2013/1°. semestre</td>\n      <td>b'gAAAAABkbNiLMgESQV4anMHjjszaergEHRoypH7IjOMz...</td>\n      <td>7,2461</td>\n      <td>Copacabana</td>\n      <td>RIO DE JANEIRO</td>\n      <td>Rio de Janeiro</td>\n    </tr>\n    <tr>\n      <th>1284</th>\n      <td>1284</td>\n      <td>b'gAAAAABkbNiLUnz6ofWGlPOgbIis5YlfF-2mLBBtrOat...</td>\n      <td>b'gAAAAABkbNiLHaQqOvl1VAtxAR6ramDun37Yn7eZ20xR...</td>\n      <td>M</td>\n      <td>04/07/1986</td>\n      <td>VE - Vestibular</td>\n      <td>JUB - Jubilamento</td>\n      <td>b'gAAAAABkbNiLhanTCZ1wLGtdPlU1Gg_g_M6el316sCtL...</td>\n      <td>2008/1</td>\n      <td>2007/2°. semestre</td>\n      <td>23/08/2013</td>\n      <td>2013/1°. semestre</td>\n      <td>b'gAAAAABkbNiLnMEooSY1wMz1I-tUSIq5h5oAKk0qFRq6...</td>\n      <td>4,1534</td>\n      <td>Tijuca</td>\n      <td>RIO DE JANEIRO</td>\n      <td>Rio de Janeiro</td>\n    </tr>\n  </tbody>\n</table>\n<p>1285 rows × 17 columns</p>\n</div>"
     },
     "execution_count": 6,
     "metadata": {},
     "output_type": "execute_result"
    }
   ],
   "source": [
    "tabelaPrinc = pd.read_excel(\"../../dados/bruto/planilhaJoinCriptografada.xlsx\")\n",
    "tabelaPrinc"
   ],
   "metadata": {
    "collapsed": false,
    "ExecuteTime": {
     "end_time": "2023-06-12T02:48:19.658947500Z",
     "start_time": "2023-06-12T02:48:19.166943Z"
    }
   }
  },
  {
   "cell_type": "code",
   "execution_count": null,
   "id": "89b0f38a",
   "metadata": {
    "scrolled": true
   },
   "outputs": [],
   "source": [
    "tabelaPrinc"
   ]
  },
  {
   "cell_type": "code",
   "execution_count": null,
   "id": "a723e1b6",
   "metadata": {
    "scrolled": true
   },
   "outputs": [],
   "source": [
    "tabelaPrinc.count()"
   ]
  },
  {
   "cell_type": "markdown",
   "source": [
    "# Tratamento das colunas desnecessarias"
   ],
   "metadata": {
    "collapsed": false
   }
  },
  {
   "cell_type": "code",
   "execution_count": null,
   "outputs": [],
   "source": [
    "# Remocao da coluna repetida de Id\n",
    "tabelaPrinc = tabelaPrinc.drop('Unnamed: 0', axis=1)"
   ],
   "metadata": {
    "collapsed": false
   }
  },
  {
   "cell_type": "code",
   "execution_count": null,
   "id": "9e0cba39",
   "metadata": {},
   "outputs": [],
   "source": [
    "# Logica para filtrar os campos desnecessarios para a analise (pois estao criptografados)\n",
    "tabelaPrinc = tabelaPrinc.drop(['ID_PESSOA', 'NOME_PESSOA', 'MATR_ALUNO','CPF_MASCARA'], axis=1)"
   ]
  },
  {
   "cell_type": "markdown",
   "source": [
    "# Tratamento dos campos nulos"
   ],
   "metadata": {
    "collapsed": false
   }
  },
  {
   "cell_type": "code",
   "execution_count": null,
   "outputs": [],
   "source": [
    "# Logica para tratar os valores null/Nan/0 nas colunas DT_EVASAO e PERIODO_EVASAO, pois se estao vazias eh porque o aluno nao evadiu.\n",
    "tabelaPrinc = tabelaPrinc.fillna({'DT_EVASAO': '01/01/3000', 'PERIODO_EVASAO': 'Nao Evadiu'})\n",
    "\n",
    "# Logica para tratar os valores Null/Nan/IsNa da coluna Bairro, pois se esta vazia eh porque o aluno nao informou o bairro.\n",
    "tabelaPrinc = tabelaPrinc.fillna({'BAIRRO': 'Desconhecido'})\n",
    "#tabelaPrinc = tabelaPrinc.loc[(tabelaPrinc['BAIRRO'] == 'NaN') | (tabelaPrinc['BAIRRO'] == '.nan') | (tabelaPrinc['BAIRRO'].isna())]\n",
    "\n",
    "# Logica para tratar os valores Null/Nan/IsNa da coluna Cidade, pois se esta vazia eh porque o aluno nao informou a cidade.\n",
    "tabelaPrinc = tabelaPrinc.fillna({'CIDADE': 'Desconhecido'})\n",
    "\n",
    "# Logica para tratar os valores Null/Nan/IsNa da coluna Estado, pois se esta vazia eh porque o aluno nao informou o estado.\n",
    "tabelaPrinc = tabelaPrinc.fillna({'ESTADO': 'Desconhecido'})\n"
   ],
   "metadata": {
    "collapsed": false
   }
  },
  {
   "cell_type": "markdown",
   "source": [
    "# Formatar o ano/periodo"
   ],
   "metadata": {
    "collapsed": false
   }
  },
  {
   "cell_type": "code",
   "execution_count": 39,
   "outputs": [],
   "source": [
    "df = pd.DataFrame(tabelaPrinc['PERIODO_EVASAO'].str.split('/', expand=True))\n",
    "df.columns = ['ANO_EVASAO', 'PERIODO_EVASAO']\n",
    "\n",
    "linhasPeriodoEvasao = df['PERIODO_EVASAO']\n",
    "colunaSemestre = []\n",
    "for linha in linhasPeriodoEvasao:\n",
    "  colunaSemestre.append(re.sub('\\D', '', str(linha)))\n",
    "\n",
    "df['PERIODO_EVASAO'] = colunaSemestre\n",
    "#tabelaPrinc.rename(columns = {'PERIODO_EVASAO':'ANO_EVASAO'}, inplace = True)\n",
    "\n",
    "linhasPeriodoEvasao = df['PERIODO_EVASAO']\n",
    "linhasAnoEvasao = df['ANO_EVASAO']\n",
    "colunaFormatada = []\n",
    "for linhaAno, linhaColuna in zip(linhasAnoEvasao,linhasPeriodoEvasao):\n",
    "  stringFormatada = str(linhaAno) + '.' + str(linhaColuna)\n",
    "  colunaFormatada.append(stringFormatada)\n",
    "\n",
    "#tabelaPrinc['ANO_EVASAO'] = colunaFormatada\n",
    "tabelaPrinc['PERIODO_EVASAO'] = df['PERIODO_EVASAO']\n",
    "tabelaPrinc['PER_EVASAO_FORMAT'] = colunaFormatada\n",
    "tabelaPrinc['ANO_EVASAO'] = df['ANO_EVASAO']\n",
    "\n",
    "df1 = pd.DataFrame(tabelaPrinc['PERIODO_INGRESSO'].str.split('/', expand=True))\n",
    "df1.columns = ['ANO_INGRESSO', 'PERIODO_INGRESSO']\n",
    "\n",
    "linhasPeriodoIngresso = df1['PERIODO_INGRESSO']\n",
    "colunaSemestreIngresso = []\n",
    "for linha in linhasPeriodoIngresso:\n",
    "  colunaSemestreIngresso.append(re.sub('\\D', '', str(linha)))\n",
    "\n",
    "df1['PERIODO_INGRESSO'] = colunaSemestreIngresso\n",
    "#tabelaPrinc.rename(columns = {'PERIODO_INGRESSO':'ANO_INGRESSO'}, inplace = True)\n",
    "\n",
    "linhasPeriodoIngresso = df1['PERIODO_INGRESSO']\n",
    "linhasAnoIngresso = df1['ANO_INGRESSO']\n",
    "colunaFormatada = []\n",
    "for linhaAno, linhaColuna in zip(linhasAnoIngresso,linhasPeriodoIngresso):\n",
    "  stringFormatada = str(linhaAno) + '.' + str(linhaColuna)\n",
    "  colunaFormatada.append(stringFormatada)\n",
    "\n",
    "#tabelaPrinc['ANO_INGRESSO'] = colunaFormatada\n",
    "tabelaPrinc['PERIODO_INGRESSO'] = df1['PERIODO_INGRESSO']\n",
    "tabelaPrinc['PER_INGRESSO_FORMAT'] = colunaFormatada\n",
    "tabelaPrinc['ANO_INGRESSO'] = df1['ANO_INGRESSO']\n",
    "\n",
    "# outra maneira de fazer:\n",
    "# Extrai o ano de ingresso e de evasão\n",
    "df['ANO_INGRESSO'] = df['PERIODO_INGRESSO'].dt.year\n",
    "df['ANO_EVASAO'] = df['PERIODO_EVASAO'].dt.year"
   ],
   "metadata": {
    "collapsed": false,
    "ExecuteTime": {
     "end_time": "2023-06-12T01:11:30.872503200Z",
     "start_time": "2023-06-12T01:11:30.869273400Z"
    }
   }
  },
  {
   "cell_type": "markdown",
   "source": [
    "# Acertando o Tipo dos Campos"
   ],
   "metadata": {
    "collapsed": false
   }
  },
  {
   "cell_type": "code",
   "execution_count": null,
   "outputs": [],
   "source": [
    "tabelaPrinc.dtypes"
   ],
   "metadata": {
    "collapsed": false
   }
  },
  {
   "cell_type": "code",
   "execution_count": null,
   "outputs": [],
   "source": [
    "tabelaPrinc['ANO_INGRESSO'] = tabelaPrinc[\"ANO_INGRESSO\"].apply(str)\n",
    "tabelaPrinc[\"SEXO\"]  = tabelaPrinc[\"SEXO\"].apply(str)\n",
    "tabelaPrinc[\"DT_NASCIMENTO\"]  = pd.to_datetime(tabelaPrinc['DT_NASCIMENTO'])\n",
    "tabelaPrinc[\"FORMA_INGRESSO\"]  = tabelaPrinc['FORMA_INGRESSO'].astype(str)\n",
    "tabelaPrinc[\"FORMA_EVASAO\"]  = tabelaPrinc['FORMA_EVASAO'].astype(str)\n",
    "tabelaPrinc[\"PERIODO_INGRESSO\"]  = pd.to_numeric(tabelaPrinc['PERIODO_INGRESSO'])\n",
    "tabelaPrinc[\"DT_EVASAO\"]  = pd.to_datetime(tabelaPrinc['DT_EVASAO'])\n",
    "tabelaPrinc[\"PERIODO_EVASAO\"]  = pd.to_numeric(tabelaPrinc['PERIODO_EVASAO'])\n",
    "#tabelaPrinc[\"PER_EVASAO_FORMAT\"]  = tabelaPrinc['PER_EVASAO_FORMAT'].astype(str)\n",
    "tabelaPrinc[\"ANO_EVASAO\"]  = pd.to_numeric(tabelaPrinc['ANO_EVASAO'])\n",
    "tabelaPrinc[\"PER_INGRESSO_FORMAT\"]  = tabelaPrinc['PER_INGRESSO_FORMAT'].astype(str)\n",
    "tabelaPrinc['ANO_INGRESSO'] = pd.to_numeric(tabelaPrinc['ANO_INGRESSO'])\n",
    "# Converte as colunas de data 'DT_NASCIMENTO', 'PERIODO_INGRESSO', 'DT_EVASAO', 'PERIODO_EVASAO' para o formato datetime\n",
    "tabelaPrinc['DT_NASCIMENTO'] = pd.to_datetime(tabelaPrinc['DT_NASCIMENTO'], format='%d/%m/%Y')\n",
    "tabelaPrinc['PERIODO_INGRESSO'] = pd.to_datetime(tabelaPrinc['PERIODO_INGRESSO'].str.split('/').str[0], format='%Y')\n",
    "tabelaPrinc['DT_EVASAO'] = pd.to_datetime(tabelaPrinc['DT_EVASAO'], format='%d/%m/%Y', errors='coerce')\n",
    "tabelaPrinc['PERIODO_EVASAO'] = pd.to_datetime(tabelaPrinc['PERIODO_EVASAO'].str.split('/').str[0], format='%Y', errors='coerce')"
   ],
   "metadata": {
    "collapsed": false
   }
  },
  {
   "cell_type": "markdown",
   "source": [
    "# Criando novas colunas para facilitar a análise"
   ],
   "metadata": {
    "collapsed": false
   }
  },
  {
   "cell_type": "code",
   "execution_count": null,
   "outputs": [],
   "source": [
    "\n",
    "# Converte a coluna 'FORMA_INGRESSO' para 'COTISTA' que será 'Sim' ou 'Não'\n",
    "tabelaPrinc['COTISTA'] = np.where(tabelaPrinc['FORMA_INGRESSO'].str.contains('SISU'), 'Sim', 'Não')\n",
    "\n",
    "# Converte a coluna 'FORMA_EVASAO' para 'EVADIU' que será 'Sim' ou 'Não'\n",
    "tabelaPrinc['EVADIU'] = np.where(tabelaPrinc['FORMA_EVASAO'] == 'Sem evasão', 'Não', 'Sim')\n",
    "\n"
   ],
   "metadata": {
    "collapsed": false
   }
  },
  {
   "cell_type": "markdown",
   "source": [
    "# Gerar DataFrame Principal formatado"
   ],
   "metadata": {
    "collapsed": false
   }
  },
  {
   "cell_type": "code",
   "execution_count": null,
   "outputs": [],
   "source": [
    "# Cria um DataFrame com as colunas que serão utilizadas e salva no caminho '../../dados/processado/dfPrincipal.csv'\n",
    "tabelaPrinc.to_csv('../../dados/processado/dfPrincipal.csv', index=False)"
   ],
   "metadata": {
    "collapsed": false
   }
  }
 ],
 "metadata": {
  "kernelspec": {
   "display_name": "Python 3 (ipykernel)",
   "language": "python",
   "name": "python3"
  },
  "language_info": {
   "codemirror_mode": {
    "name": "ipython",
    "version": 3
   },
   "file_extension": ".py",
   "mimetype": "text/x-python",
   "name": "python",
   "nbconvert_exporter": "python",
   "pygments_lexer": "ipython3",
   "version": "3.10.4"
  }
 },
 "nbformat": 4,
 "nbformat_minor": 5
}

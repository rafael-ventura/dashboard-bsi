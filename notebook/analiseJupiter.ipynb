{
 "cells": [
  {
   "cell_type": "code",
   "execution_count": 1,
   "metadata": {},
   "outputs": [],
   "source": [
    "import pandas as pd\n",
    "import numpy as np\n",
    "import matplotlib.pyplot as plt\n",
    "from cryptography.fernet import Fernet\n",
    "import re\n",
    "import datetime as dt"
   ]
  },
  {
   "cell_type": "code",
   "execution_count": 2,
   "metadata": {},
   "outputs": [],
   "source": [
    "dfPrinc = pd.read_csv('../dfPrincipal.csv')"
   ]
  },
  {
   "cell_type": "code",
   "execution_count": 18,
   "metadata": {
    "scrolled": false
   },
   "outputs": [
    {
     "data": {
      "text/html": [
       "<div>\n",
       "<style scoped>\n",
       "    .dataframe tbody tr th:only-of-type {\n",
       "        vertical-align: middle;\n",
       "    }\n",
       "\n",
       "    .dataframe tbody tr th {\n",
       "        vertical-align: top;\n",
       "    }\n",
       "\n",
       "    .dataframe thead th {\n",
       "        text-align: right;\n",
       "    }\n",
       "</style>\n",
       "<table border=\"1\" class=\"dataframe\">\n",
       "  <thead>\n",
       "    <tr style=\"text-align: right;\">\n",
       "      <th></th>\n",
       "      <th>Unnamed: 0</th>\n",
       "      <th>SEXO</th>\n",
       "      <th>DT_NASCIMENTO</th>\n",
       "      <th>FORMA_INGRESSO</th>\n",
       "      <th>FORMA_EVASAO</th>\n",
       "      <th>PERIODO_INGRESSO</th>\n",
       "      <th>DT_EVASAO</th>\n",
       "      <th>PERIODO_EVASAO</th>\n",
       "      <th>PER_EVASAO_FORMAT</th>\n",
       "      <th>ANO_EVASAO</th>\n",
       "      <th>PER_INGRESSO_FORMAT</th>\n",
       "      <th>ANO_INGRESSO</th>\n",
       "    </tr>\n",
       "  </thead>\n",
       "  <tbody>\n",
       "    <tr>\n",
       "      <th>0</th>\n",
       "      <td>0</td>\n",
       "      <td>M</td>\n",
       "      <td>1982-02-09</td>\n",
       "      <td>VE - Vestibular</td>\n",
       "      <td>CON - Curso concluído</td>\n",
       "      <td>2</td>\n",
       "      <td>2009-09-14</td>\n",
       "      <td>2.0</td>\n",
       "      <td>2009.2</td>\n",
       "      <td>2009.0</td>\n",
       "      <td>2002.2</td>\n",
       "      <td>2002</td>\n",
       "    </tr>\n",
       "    <tr>\n",
       "      <th>1</th>\n",
       "      <td>1</td>\n",
       "      <td>M</td>\n",
       "      <td>1977-05-09</td>\n",
       "      <td>VE - Vestibular</td>\n",
       "      <td>ABA - Abandono do curso</td>\n",
       "      <td>1</td>\n",
       "      <td>2005-03-12</td>\n",
       "      <td>2.0</td>\n",
       "      <td>2005.2</td>\n",
       "      <td>2005.0</td>\n",
       "      <td>2004.1</td>\n",
       "      <td>2004</td>\n",
       "    </tr>\n",
       "    <tr>\n",
       "      <th>2</th>\n",
       "      <td>2</td>\n",
       "      <td>M</td>\n",
       "      <td>1985-03-05</td>\n",
       "      <td>VE - Vestibular</td>\n",
       "      <td>Não identificada (vide pasta do aluno)</td>\n",
       "      <td>1</td>\n",
       "      <td>2003-01-06</td>\n",
       "      <td>1.0</td>\n",
       "      <td>2003.1</td>\n",
       "      <td>2003.0</td>\n",
       "      <td>2003.1</td>\n",
       "      <td>2003</td>\n",
       "    </tr>\n",
       "    <tr>\n",
       "      <th>3</th>\n",
       "      <td>3</td>\n",
       "      <td>M</td>\n",
       "      <td>1988-07-18</td>\n",
       "      <td>SISU Ampla Concorrencia</td>\n",
       "      <td>CON - Curso concluído</td>\n",
       "      <td>2</td>\n",
       "      <td>2018-03-23</td>\n",
       "      <td>2.0</td>\n",
       "      <td>2017.2</td>\n",
       "      <td>2017.0</td>\n",
       "      <td>2013.2</td>\n",
       "      <td>2013</td>\n",
       "    </tr>\n",
       "    <tr>\n",
       "      <th>4</th>\n",
       "      <td>4</td>\n",
       "      <td>M</td>\n",
       "      <td>2002-07-02</td>\n",
       "      <td>SISU Escola Pública, Indep. de Renda : Preto e...</td>\n",
       "      <td>Sem evasão</td>\n",
       "      <td>1</td>\n",
       "      <td>NaN</td>\n",
       "      <td>NaN</td>\n",
       "      <td>nan.</td>\n",
       "      <td>NaN</td>\n",
       "      <td>2020.1</td>\n",
       "      <td>2020</td>\n",
       "    </tr>\n",
       "    <tr>\n",
       "      <th>...</th>\n",
       "      <td>...</td>\n",
       "      <td>...</td>\n",
       "      <td>...</td>\n",
       "      <td>...</td>\n",
       "      <td>...</td>\n",
       "      <td>...</td>\n",
       "      <td>...</td>\n",
       "      <td>...</td>\n",
       "      <td>...</td>\n",
       "      <td>...</td>\n",
       "      <td>...</td>\n",
       "      <td>...</td>\n",
       "    </tr>\n",
       "    <tr>\n",
       "      <th>1255</th>\n",
       "      <td>1255</td>\n",
       "      <td>M</td>\n",
       "      <td>2000-07-22</td>\n",
       "      <td>SISU Ampla Concorrencia</td>\n",
       "      <td>Sem evasão</td>\n",
       "      <td>1</td>\n",
       "      <td>NaN</td>\n",
       "      <td>NaN</td>\n",
       "      <td>nan.</td>\n",
       "      <td>NaN</td>\n",
       "      <td>2020.1</td>\n",
       "      <td>2020</td>\n",
       "    </tr>\n",
       "    <tr>\n",
       "      <th>1256</th>\n",
       "      <td>1256</td>\n",
       "      <td>M</td>\n",
       "      <td>1996-02-07</td>\n",
       "      <td>SISU Escola Publica, Indep de Renda: Preto, Pa...</td>\n",
       "      <td>CAN - Cancelamento Geral do curso</td>\n",
       "      <td>2</td>\n",
       "      <td>2014-12-16</td>\n",
       "      <td>2.0</td>\n",
       "      <td>2014.2</td>\n",
       "      <td>2014.0</td>\n",
       "      <td>2014.2</td>\n",
       "      <td>2014</td>\n",
       "    </tr>\n",
       "    <tr>\n",
       "      <th>1257</th>\n",
       "      <td>1257</td>\n",
       "      <td>M</td>\n",
       "      <td>1992-03-29</td>\n",
       "      <td>VE - Vestibular</td>\n",
       "      <td>CON - Curso concluído</td>\n",
       "      <td>1</td>\n",
       "      <td>2015-03-17</td>\n",
       "      <td>1.0</td>\n",
       "      <td>2015.1</td>\n",
       "      <td>2015.0</td>\n",
       "      <td>2009.1</td>\n",
       "      <td>2009</td>\n",
       "    </tr>\n",
       "    <tr>\n",
       "      <th>1258</th>\n",
       "      <td>1258</td>\n",
       "      <td>M</td>\n",
       "      <td>1991-02-17</td>\n",
       "      <td>EN - ENEM</td>\n",
       "      <td>CON - Curso concluído</td>\n",
       "      <td>1</td>\n",
       "      <td>2013-05-17</td>\n",
       "      <td>1.0</td>\n",
       "      <td>2013.1</td>\n",
       "      <td>2013.0</td>\n",
       "      <td>2009.1</td>\n",
       "      <td>2009</td>\n",
       "    </tr>\n",
       "    <tr>\n",
       "      <th>1259</th>\n",
       "      <td>1259</td>\n",
       "      <td>M</td>\n",
       "      <td>1986-04-07</td>\n",
       "      <td>VE - Vestibular</td>\n",
       "      <td>JUB - Jubilamento</td>\n",
       "      <td>2</td>\n",
       "      <td>2013-08-23</td>\n",
       "      <td>1.0</td>\n",
       "      <td>2013.1</td>\n",
       "      <td>2013.0</td>\n",
       "      <td>2007.2</td>\n",
       "      <td>2007</td>\n",
       "    </tr>\n",
       "  </tbody>\n",
       "</table>\n",
       "<p>1260 rows × 12 columns</p>\n",
       "</div>"
      ],
      "text/plain": [
       "      Unnamed: 0 SEXO DT_NASCIMENTO  \\\n",
       "0              0    M    1982-02-09   \n",
       "1              1    M    1977-05-09   \n",
       "2              2    M    1985-03-05   \n",
       "3              3    M    1988-07-18   \n",
       "4              4    M    2002-07-02   \n",
       "...          ...  ...           ...   \n",
       "1255        1255    M    2000-07-22   \n",
       "1256        1256    M    1996-02-07   \n",
       "1257        1257    M    1992-03-29   \n",
       "1258        1258    M    1991-02-17   \n",
       "1259        1259    M    1986-04-07   \n",
       "\n",
       "                                         FORMA_INGRESSO  \\\n",
       "0                                       VE - Vestibular   \n",
       "1                                       VE - Vestibular   \n",
       "2                                       VE - Vestibular   \n",
       "3                               SISU Ampla Concorrencia   \n",
       "4     SISU Escola Pública, Indep. de Renda : Preto e...   \n",
       "...                                                 ...   \n",
       "1255                            SISU Ampla Concorrencia   \n",
       "1256  SISU Escola Publica, Indep de Renda: Preto, Pa...   \n",
       "1257                                    VE - Vestibular   \n",
       "1258                                          EN - ENEM   \n",
       "1259                                    VE - Vestibular   \n",
       "\n",
       "                                FORMA_EVASAO  PERIODO_INGRESSO   DT_EVASAO  \\\n",
       "0                      CON - Curso concluído                 2  2009-09-14   \n",
       "1                    ABA - Abandono do curso                 1  2005-03-12   \n",
       "2     Não identificada (vide pasta do aluno)                 1  2003-01-06   \n",
       "3                      CON - Curso concluído                 2  2018-03-23   \n",
       "4                                 Sem evasão                 1         NaN   \n",
       "...                                      ...               ...         ...   \n",
       "1255                              Sem evasão                 1         NaN   \n",
       "1256       CAN - Cancelamento Geral do curso                 2  2014-12-16   \n",
       "1257                   CON - Curso concluído                 1  2015-03-17   \n",
       "1258                   CON - Curso concluído                 1  2013-05-17   \n",
       "1259                       JUB - Jubilamento                 2  2013-08-23   \n",
       "\n",
       "      PERIODO_EVASAO PER_EVASAO_FORMAT  ANO_EVASAO  PER_INGRESSO_FORMAT  \\\n",
       "0                2.0            2009.2      2009.0               2002.2   \n",
       "1                2.0            2005.2      2005.0               2004.1   \n",
       "2                1.0            2003.1      2003.0               2003.1   \n",
       "3                2.0            2017.2      2017.0               2013.2   \n",
       "4                NaN              nan.         NaN               2020.1   \n",
       "...              ...               ...         ...                  ...   \n",
       "1255             NaN              nan.         NaN               2020.1   \n",
       "1256             2.0            2014.2      2014.0               2014.2   \n",
       "1257             1.0            2015.1      2015.0               2009.1   \n",
       "1258             1.0            2013.1      2013.0               2009.1   \n",
       "1259             1.0            2013.1      2013.0               2007.2   \n",
       "\n",
       "      ANO_INGRESSO  \n",
       "0             2002  \n",
       "1             2004  \n",
       "2             2003  \n",
       "3             2013  \n",
       "4             2020  \n",
       "...            ...  \n",
       "1255          2020  \n",
       "1256          2014  \n",
       "1257          2009  \n",
       "1258          2009  \n",
       "1259          2007  \n",
       "\n",
       "[1260 rows x 12 columns]"
      ]
     },
     "execution_count": 18,
     "metadata": {},
     "output_type": "execute_result"
    }
   ],
   "source": [
    "dfPrinc"
   ]
  },
  {
   "cell_type": "markdown",
   "metadata": {},
   "source": [
    "### Analise Dados Alunos"
   ]
  },
  {
   "cell_type": "markdown",
   "metadata": {},
   "source": [
    "\n",
    "\n",
    "--- \n",
    "\n",
    "### Grupos de Alunos\n",
    "\n",
    "| /                           |Todos os Alunos | Antes de 2013 | De 2013 até 2020 | De 2020 até 2021 \n",
    "| -----------                 | -----------    |  -----------  | -----------      | -----------     | \n",
    "Análise da % de conclusão     | x              |  -----------  | -----------      | -----------     | \n",
    "Análise da % de genero        | x              |  -----------  | -----------      | -----------     | \n",
    "Análise do perfil de idade    | -----------    |  -----------  | -----------      | -----------     | \n",
    "Análise da distancia          | -----------    |  -----------  | -----------      | -----------     | \n",
    "Análise do rendimento escolar | -----------    |  -----------  | -----------      | -----------     | \n",
    "Análise da % de conclusão     | -----------    |  -----------  | -----------      | -----------     | \n",
    "\n",
    "\n",
    "\n",
    "\n",
    "\n"
   ]
  },
  {
   "cell_type": "markdown",
   "metadata": {},
   "source": [
    "## Análise da % de conclusão(Todos os Alunos)"
   ]
  },
  {
   "cell_type": "code",
   "execution_count": 8,
   "metadata": {},
   "outputs": [],
   "source": [
    "evasoesDF = dfPrinc.groupby(['ANO_EVASAO','FORMA_EVASAO'], dropna=False).size().reset_index(name='ALUNOS')"
   ]
  },
  {
   "cell_type": "code",
   "execution_count": 9,
   "metadata": {},
   "outputs": [],
   "source": [
    "evasoesDF['FORMA_EVASAO'] = evasoesDF.FORMA_EVASAO.str.replace('ABA - Abandono do curso', 'Evasão') \n",
    "evasoesDF['FORMA_EVASAO'] = evasoesDF.FORMA_EVASAO.str.replace('APO - Aluno Especial - Disciplina Isolada', 'Evasão') \n",
    "evasoesDF['FORMA_EVASAO'] = evasoesDF.FORMA_EVASAO.str.replace('APO -Conclusão a Mobilidade Acadêmica Externa - ANDIFES', 'Evasão') \n",
    "evasoesDF['FORMA_EVASAO'] = evasoesDF.FORMA_EVASAO.str.replace('APO -Conclusão da Mobilidade Acadêmica Externa - IAE/IESCE', 'Evasão') \n",
    "evasoesDF['FORMA_EVASAO'] = evasoesDF.FORMA_EVASAO.str.replace('Desistência SiSU', 'Evasão') \n",
    "evasoesDF['FORMA_EVASAO'] = evasoesDF.FORMA_EVASAO.str.replace('JUB - Jubilamento', 'Evasão') \n",
    "evasoesDF['FORMA_EVASAO'] = evasoesDF.FORMA_EVASAO.str.replace('CAN - Cancelamento Geral do curso', 'Evasão') \n",
    "evasoesDF['FORMA_EVASAO'] = evasoesDF.FORMA_EVASAO.str.replace('CON - Curso concluído', 'Concluído') \n",
    "evasoesDF['FORMA_EVASAO'] = evasoesDF.FORMA_EVASAO.str.replace('Sem evasão', 'Cursando') "
   ]
  },
  {
   "cell_type": "code",
   "execution_count": 10,
   "metadata": {},
   "outputs": [],
   "source": [
    "evasoesDF.loc[evasoesDF['FORMA_EVASAO'] == 'Não identificada (vide pasta do aluno)' , 'FORMA_EVASAO'] = 'Evasão'"
   ]
  },
  {
   "cell_type": "code",
   "execution_count": 11,
   "metadata": {},
   "outputs": [],
   "source": [
    "evasoesDF = evasoesDF.groupby(['FORMA_EVASAO'] , as_index=False)['ALUNOS'].sum() "
   ]
  },
  {
   "cell_type": "code",
   "execution_count": 12,
   "metadata": {
    "scrolled": true
   },
   "outputs": [],
   "source": [
    "# Mostra porcentagem de alunos\n",
    "evasoesDF['percent'] =  (100. * evasoesDF['ALUNOS'] / evasoesDF['ALUNOS'].sum()).round(0)\n"
   ]
  },
  {
   "cell_type": "code",
   "execution_count": 13,
   "metadata": {
    "scrolled": false
   },
   "outputs": [
    {
     "data": {
      "text/html": [
       "<div>\n",
       "<style scoped>\n",
       "    .dataframe tbody tr th:only-of-type {\n",
       "        vertical-align: middle;\n",
       "    }\n",
       "\n",
       "    .dataframe tbody tr th {\n",
       "        vertical-align: top;\n",
       "    }\n",
       "\n",
       "    .dataframe thead th {\n",
       "        text-align: right;\n",
       "    }\n",
       "</style>\n",
       "<table border=\"1\" class=\"dataframe\">\n",
       "  <thead>\n",
       "    <tr style=\"text-align: right;\">\n",
       "      <th></th>\n",
       "      <th>FORMA_EVASAO</th>\n",
       "      <th>ALUNOS</th>\n",
       "      <th>percent</th>\n",
       "    </tr>\n",
       "  </thead>\n",
       "  <tbody>\n",
       "    <tr>\n",
       "      <th>0</th>\n",
       "      <td>Concluído</td>\n",
       "      <td>335</td>\n",
       "      <td>27.0</td>\n",
       "    </tr>\n",
       "    <tr>\n",
       "      <th>1</th>\n",
       "      <td>Cursando</td>\n",
       "      <td>418</td>\n",
       "      <td>33.0</td>\n",
       "    </tr>\n",
       "    <tr>\n",
       "      <th>2</th>\n",
       "      <td>Evasão</td>\n",
       "      <td>507</td>\n",
       "      <td>40.0</td>\n",
       "    </tr>\n",
       "  </tbody>\n",
       "</table>\n",
       "</div>"
      ],
      "text/plain": [
       "  FORMA_EVASAO  ALUNOS  percent\n",
       "0    Concluído     335     27.0\n",
       "1     Cursando     418     33.0\n",
       "2       Evasão     507     40.0"
      ]
     },
     "execution_count": 13,
     "metadata": {},
     "output_type": "execute_result"
    }
   ],
   "source": [
    "evasoesDF"
   ]
  },
  {
   "cell_type": "markdown",
   "metadata": {},
   "source": [
    "---"
   ]
  },
  {
   "cell_type": "markdown",
   "metadata": {},
   "source": [
    "## Análise da % de gênero"
   ]
  },
  {
   "cell_type": "code",
   "execution_count": 14,
   "metadata": {},
   "outputs": [],
   "source": [
    "generoDF = dfPrinc.groupby(['SEXO'], dropna=False).size().reset_index(name='ALUNOS')"
   ]
  },
  {
   "cell_type": "code",
   "execution_count": 16,
   "metadata": {},
   "outputs": [],
   "source": [
    "generoDF['percent'] =  (100. * generoDF['ALUNOS'] / generoDF['ALUNOS'].sum()).round(0)"
   ]
  },
  {
   "cell_type": "code",
   "execution_count": 17,
   "metadata": {
    "scrolled": true
   },
   "outputs": [
    {
     "data": {
      "text/html": [
       "<div>\n",
       "<style scoped>\n",
       "    .dataframe tbody tr th:only-of-type {\n",
       "        vertical-align: middle;\n",
       "    }\n",
       "\n",
       "    .dataframe tbody tr th {\n",
       "        vertical-align: top;\n",
       "    }\n",
       "\n",
       "    .dataframe thead th {\n",
       "        text-align: right;\n",
       "    }\n",
       "</style>\n",
       "<table border=\"1\" class=\"dataframe\">\n",
       "  <thead>\n",
       "    <tr style=\"text-align: right;\">\n",
       "      <th></th>\n",
       "      <th>SEXO</th>\n",
       "      <th>ALUNOS</th>\n",
       "      <th>percent</th>\n",
       "    </tr>\n",
       "  </thead>\n",
       "  <tbody>\n",
       "    <tr>\n",
       "      <th>0</th>\n",
       "      <td>F</td>\n",
       "      <td>238</td>\n",
       "      <td>19.0</td>\n",
       "    </tr>\n",
       "    <tr>\n",
       "      <th>1</th>\n",
       "      <td>M</td>\n",
       "      <td>1022</td>\n",
       "      <td>81.0</td>\n",
       "    </tr>\n",
       "  </tbody>\n",
       "</table>\n",
       "</div>"
      ],
      "text/plain": [
       "  SEXO  ALUNOS  percent\n",
       "0    F     238     19.0\n",
       "1    M    1022     81.0"
      ]
     },
     "execution_count": 17,
     "metadata": {},
     "output_type": "execute_result"
    }
   ],
   "source": [
    "generoDF"
   ]
  },
  {
   "cell_type": "markdown",
   "metadata": {},
   "source": [
    "## Análise do perfil de idade\n"
   ]
  },
  {
   "cell_type": "code",
   "execution_count": 72,
   "metadata": {},
   "outputs": [],
   "source": [
    "idadeDF = dfPrinc.groupby(['DT_NASCIMENTO'], dropna=True).size().reset_index(name='ALUNOS')"
   ]
  },
  {
   "cell_type": "code",
   "execution_count": 73,
   "metadata": {
    "scrolled": true
   },
   "outputs": [
    {
     "data": {
      "text/html": [
       "<div>\n",
       "<style scoped>\n",
       "    .dataframe tbody tr th:only-of-type {\n",
       "        vertical-align: middle;\n",
       "    }\n",
       "\n",
       "    .dataframe tbody tr th {\n",
       "        vertical-align: top;\n",
       "    }\n",
       "\n",
       "    .dataframe thead th {\n",
       "        text-align: right;\n",
       "    }\n",
       "</style>\n",
       "<table border=\"1\" class=\"dataframe\">\n",
       "  <thead>\n",
       "    <tr style=\"text-align: right;\">\n",
       "      <th></th>\n",
       "      <th>DT_NASCIMENTO</th>\n",
       "      <th>ALUNOS</th>\n",
       "    </tr>\n",
       "  </thead>\n",
       "  <tbody>\n",
       "    <tr>\n",
       "      <th>0</th>\n",
       "      <td>1954-03-19</td>\n",
       "      <td>1</td>\n",
       "    </tr>\n",
       "    <tr>\n",
       "      <th>1</th>\n",
       "      <td>1954-04-07</td>\n",
       "      <td>1</td>\n",
       "    </tr>\n",
       "    <tr>\n",
       "      <th>2</th>\n",
       "      <td>1954-11-02</td>\n",
       "      <td>1</td>\n",
       "    </tr>\n",
       "    <tr>\n",
       "      <th>3</th>\n",
       "      <td>1954-12-06</td>\n",
       "      <td>1</td>\n",
       "    </tr>\n",
       "    <tr>\n",
       "      <th>4</th>\n",
       "      <td>1957-02-06</td>\n",
       "      <td>1</td>\n",
       "    </tr>\n",
       "    <tr>\n",
       "      <th>...</th>\n",
       "      <td>...</td>\n",
       "      <td>...</td>\n",
       "    </tr>\n",
       "    <tr>\n",
       "      <th>1158</th>\n",
       "      <td>2003-09-06</td>\n",
       "      <td>1</td>\n",
       "    </tr>\n",
       "    <tr>\n",
       "      <th>1159</th>\n",
       "      <td>2003-10-06</td>\n",
       "      <td>1</td>\n",
       "    </tr>\n",
       "    <tr>\n",
       "      <th>1160</th>\n",
       "      <td>2003-10-19</td>\n",
       "      <td>1</td>\n",
       "    </tr>\n",
       "    <tr>\n",
       "      <th>1161</th>\n",
       "      <td>2003-11-06</td>\n",
       "      <td>1</td>\n",
       "    </tr>\n",
       "    <tr>\n",
       "      <th>1162</th>\n",
       "      <td>2003-11-07</td>\n",
       "      <td>1</td>\n",
       "    </tr>\n",
       "  </tbody>\n",
       "</table>\n",
       "<p>1163 rows × 2 columns</p>\n",
       "</div>"
      ],
      "text/plain": [
       "     DT_NASCIMENTO  ALUNOS\n",
       "0       1954-03-19       1\n",
       "1       1954-04-07       1\n",
       "2       1954-11-02       1\n",
       "3       1954-12-06       1\n",
       "4       1957-02-06       1\n",
       "...            ...     ...\n",
       "1158    2003-09-06       1\n",
       "1159    2003-10-06       1\n",
       "1160    2003-10-19       1\n",
       "1161    2003-11-06       1\n",
       "1162    2003-11-07       1\n",
       "\n",
       "[1163 rows x 2 columns]"
      ]
     },
     "execution_count": 73,
     "metadata": {},
     "output_type": "execute_result"
    }
   ],
   "source": [
    "idadeDF"
   ]
  },
  {
   "cell_type": "code",
   "execution_count": 77,
   "metadata": {},
   "outputs": [],
   "source": [
    "idadeDF['DT_NASCIMENTO'] = pd.to_datetime(idadeDF['DT_NASCIMENTO'])"
   ]
  },
  {
   "cell_type": "code",
   "execution_count": 78,
   "metadata": {},
   "outputs": [],
   "source": [
    "from datetime import datetime\n",
    "\n",
    "def getIdade(dt_nascimento):\n",
    "    #born = datetime.strptime(dt_nascimento, \"%d.%m.%Y\")\n",
    "    today = date.today()\n",
    "    return today.year - dt_nascimento.year - ((today.month, today.day) < (dt_nascimento.month, dt_nascimento.day))\n"
   ]
  },
  {
   "cell_type": "code",
   "execution_count": 79,
   "metadata": {},
   "outputs": [],
   "source": [
    "idadeDF['idade'] = idadeDF['DT_NASCIMENTO'].apply(getIdade)"
   ]
  },
  {
   "cell_type": "code",
   "execution_count": 80,
   "metadata": {},
   "outputs": [
    {
     "data": {
      "text/plain": [
       "DT_NASCIMENTO    datetime64[ns]\n",
       "ALUNOS                    int64\n",
       "idade                     int64\n",
       "dtype: object"
      ]
     },
     "execution_count": 80,
     "metadata": {},
     "output_type": "execute_result"
    }
   ],
   "source": [
    "idadeDF.dtypes"
   ]
  },
  {
   "cell_type": "code",
   "execution_count": 81,
   "metadata": {},
   "outputs": [],
   "source": [
    "idadeDF['idade'] = idadeDF['idade'].astype(int)"
   ]
  },
  {
   "cell_type": "code",
   "execution_count": 82,
   "metadata": {},
   "outputs": [
    {
     "data": {
      "text/html": [
       "<div>\n",
       "<style scoped>\n",
       "    .dataframe tbody tr th:only-of-type {\n",
       "        vertical-align: middle;\n",
       "    }\n",
       "\n",
       "    .dataframe tbody tr th {\n",
       "        vertical-align: top;\n",
       "    }\n",
       "\n",
       "    .dataframe thead th {\n",
       "        text-align: right;\n",
       "    }\n",
       "</style>\n",
       "<table border=\"1\" class=\"dataframe\">\n",
       "  <thead>\n",
       "    <tr style=\"text-align: right;\">\n",
       "      <th></th>\n",
       "      <th>DT_NASCIMENTO</th>\n",
       "      <th>ALUNOS</th>\n",
       "      <th>idade</th>\n",
       "    </tr>\n",
       "  </thead>\n",
       "  <tbody>\n",
       "    <tr>\n",
       "      <th>0</th>\n",
       "      <td>1954-03-19</td>\n",
       "      <td>1</td>\n",
       "      <td>68</td>\n",
       "    </tr>\n",
       "    <tr>\n",
       "      <th>1</th>\n",
       "      <td>1954-04-07</td>\n",
       "      <td>1</td>\n",
       "      <td>68</td>\n",
       "    </tr>\n",
       "    <tr>\n",
       "      <th>2</th>\n",
       "      <td>1954-11-02</td>\n",
       "      <td>1</td>\n",
       "      <td>67</td>\n",
       "    </tr>\n",
       "    <tr>\n",
       "      <th>3</th>\n",
       "      <td>1954-12-06</td>\n",
       "      <td>1</td>\n",
       "      <td>67</td>\n",
       "    </tr>\n",
       "    <tr>\n",
       "      <th>4</th>\n",
       "      <td>1957-02-06</td>\n",
       "      <td>1</td>\n",
       "      <td>65</td>\n",
       "    </tr>\n",
       "    <tr>\n",
       "      <th>...</th>\n",
       "      <td>...</td>\n",
       "      <td>...</td>\n",
       "      <td>...</td>\n",
       "    </tr>\n",
       "    <tr>\n",
       "      <th>1158</th>\n",
       "      <td>2003-09-06</td>\n",
       "      <td>1</td>\n",
       "      <td>18</td>\n",
       "    </tr>\n",
       "    <tr>\n",
       "      <th>1159</th>\n",
       "      <td>2003-10-06</td>\n",
       "      <td>1</td>\n",
       "      <td>18</td>\n",
       "    </tr>\n",
       "    <tr>\n",
       "      <th>1160</th>\n",
       "      <td>2003-10-19</td>\n",
       "      <td>1</td>\n",
       "      <td>18</td>\n",
       "    </tr>\n",
       "    <tr>\n",
       "      <th>1161</th>\n",
       "      <td>2003-11-06</td>\n",
       "      <td>1</td>\n",
       "      <td>18</td>\n",
       "    </tr>\n",
       "    <tr>\n",
       "      <th>1162</th>\n",
       "      <td>2003-11-07</td>\n",
       "      <td>1</td>\n",
       "      <td>18</td>\n",
       "    </tr>\n",
       "  </tbody>\n",
       "</table>\n",
       "<p>1163 rows × 3 columns</p>\n",
       "</div>"
      ],
      "text/plain": [
       "     DT_NASCIMENTO  ALUNOS  idade\n",
       "0       1954-03-19       1     68\n",
       "1       1954-04-07       1     68\n",
       "2       1954-11-02       1     67\n",
       "3       1954-12-06       1     67\n",
       "4       1957-02-06       1     65\n",
       "...            ...     ...    ...\n",
       "1158    2003-09-06       1     18\n",
       "1159    2003-10-06       1     18\n",
       "1160    2003-10-19       1     18\n",
       "1161    2003-11-06       1     18\n",
       "1162    2003-11-07       1     18\n",
       "\n",
       "[1163 rows x 3 columns]"
      ]
     },
     "execution_count": 82,
     "metadata": {},
     "output_type": "execute_result"
    }
   ],
   "source": [
    "idadeDF"
   ]
  },
  {
   "cell_type": "code",
   "execution_count": null,
   "metadata": {},
   "outputs": [],
   "source": []
  }
 ],
 "metadata": {
  "interpreter": {
   "hash": "0e01570b1d8fb9bc14e513e59ae73705219df045de8d95f49422c21bca5e633a"
  },
  "kernelspec": {
   "display_name": "Python 3 (ipykernel)",
   "language": "python",
   "name": "python3"
  },
  "language_info": {
   "codemirror_mode": {
    "name": "ipython",
    "version": 3
   },
   "file_extension": ".py",
   "mimetype": "text/x-python",
   "name": "python",
   "nbconvert_exporter": "python",
   "pygments_lexer": "ipython3",
   "version": "3.8.10"
  }
 },
 "nbformat": 4,
 "nbformat_minor": 2
}
